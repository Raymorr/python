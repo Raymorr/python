{
 "cells": [
  {
   "cell_type": "code",
   "execution_count": 15,
   "metadata": {},
   "outputs": [
    {
     "name": "stdout",
     "output_type": "stream",
     "text": [
      "What is your name?\n",
      "Bob\n",
      "How old are you?\n",
      "12\n",
      "Bob you will be 100 years old in the year 2107\n"
     ]
    }
   ],
   "source": [
    "import datetime\n",
    "\n",
    "def get_year(age):\n",
    "\tif age  >= 100 or age <= 0:\n",
    "\t\treturn 0\n",
    "\telse:\n",
    "\t\tyear = datetime.datetime.now().year\n",
    "\t\treturn (year + (100 - age))\n",
    "\n",
    "    \n",
    "name = input('What is your name?\\n')\n",
    "age = int(input('How old are you?\\n'))\n",
    "year = get_year(age)\t\n",
    "if year == 0:\n",
    "\tprint (\"Error!\")\n",
    "else:\n",
    "\tprint (name, 'you will be 100 years old in the year ' + str(year))"
   ]
  },
  {
   "cell_type": "code",
   "execution_count": 16,
   "metadata": {},
   "outputs": [
    {
     "name": "stdout",
     "output_type": "stream",
     "text": [
      "How many numbers?\n",
      "1\n",
      "1 \n"
     ]
    }
   ],
   "source": [
    "def fib(num):\n",
    "\ta = 0\n",
    "\tb = 1\n",
    "\tfor i in range (num):\n",
    "\t\ta, b = b, a + b\n",
    "\t\tprint(a, end = ' ')\n",
    "\tprint()\n",
    "\n",
    "num = int(input(\"How many numbers?\\n\"))\n",
    "fib(num)"
   ]
  },
  {
   "cell_type": "code",
   "execution_count": 18,
   "metadata": {},
   "outputs": [
    {
     "name": "stdout",
     "output_type": "stream",
     "text": [
      "Guess the number between 1 and 9\n",
      "5\n",
      "Too low, print Stop if you want to stop guessing\n",
      "4\n",
      "Too low, print Stop if you want to stop guessing\n",
      "3\n",
      "Too low, print Stop if you want to stop guessing\n",
      "2\n",
      "Too low, print Stop if you want to stop guessing\n",
      "1\n",
      "Too low, print Stop if you want to stop guessing\n",
      "0\n",
      "Error input, try again\n",
      "6\n",
      "Too low, print Stop if you want to stop guessing\n",
      "7\n",
      "Too low, print Stop if you want to stop guessing\n",
      "8\n",
      "You won!\n",
      "Total numbers of attempts - 8\n"
     ]
    }
   ],
   "source": [
    "import random\t\n",
    "#import pdb\n",
    "def main():\n",
    "#\tpdb.set_trace()\n",
    "\ttries = 0\n",
    "\tfl = 1\n",
    "\ttrue_number = random.randint(1, 9)\n",
    "\tf_st = input(\"Guess the number between 1 and 9\\n\")\n",
    "\tif(not f_st.isdigit()) :\n",
    "\t\tprint ('Error')\n",
    "\t\treturn\t\n",
    "\telse:\n",
    "\t\tnum = int(f_st)\n",
    "\t\tif(num > 9 or num < 1) :\n",
    "\t\t\tprint ('Error')\n",
    "\t\t\treturn\n",
    "\n",
    "\twhile fl == 1:\n",
    "\t\ttries = tries + 1\n",
    "\t\tif num > true_number:\n",
    "\t\t\tprint(\"Too high, print Stop if you want to stop guessing\")\n",
    "\t\t\twhile True:\n",
    "\t\t\t\tnum = new_st()\n",
    "\t\t\t\tfl = check(num)\n",
    "\t\t\t\tif(fl == 2): continue\n",
    "\t\t\t\tif(fl == 1): break\n",
    "\t\t\t\tbreak\n",
    "\n",
    "\t\telif num < true_number:\n",
    "\t\t\tprint(\"Too low, print Stop if you want to stop guessing\")\n",
    "\t\t\twhile True:\n",
    "\t\t\t\tnum = new_st()\n",
    "\t\t\t\tfl = check(num)\n",
    "\t\t\t\tif(fl == 2): continue\n",
    "\t\t\t\tif(fl == 1): break\n",
    "\t\t\t\tbreak\n",
    "\t\t\n",
    "\t\telse:\n",
    "\t\t\tprint(\"You won!\")\n",
    "\t\t\tprint(\"Total numbers of attempts - %d\" %tries)\n",
    "\t\t\tfl = 0\n",
    "\n",
    "def isint(s):\n",
    "\ttry:\n",
    "\t\tint(s)\n",
    "\t\treturn True\n",
    "\texcept ValueError:\n",
    "\t\treturn False\n",
    "\n",
    "def new_st():\n",
    "\ta = input()\n",
    "\tif(a == 'Stop') : return -1\n",
    "\telif (not a.isdigit()) : return -2\n",
    "\telif (int(a) < 1 or int(a) > 9) : return -2\n",
    "\telse: return int(a)\n",
    "\n",
    "def check(n):\n",
    "\tif(n == -1) : return 0\n",
    "\telif(n == -2) :\n",
    "\t\tprint(\"Error input, try again\")\n",
    "\t\treturn 2\n",
    "\telse : return 1\n",
    "\t\t\t \n",
    "        \n",
    "if __name__ == \"__main__\":\n",
    "\tmain()\t"
   ]
  },
  {
   "cell_type": "code",
   "execution_count": 12,
   "metadata": {},
   "outputs": [
    {
     "name": "stdout",
     "output_type": "stream",
     "text": [
      "The first, print Rock, Papper or Scissors\n",
      "Rock\n",
      "The second, print Rock, Papper or Scissosrs\n",
      "Rock\n",
      "Dead heat, try one more or print Stop\n",
      "\n",
      "The first, print Rock, Papper or Scissors\n",
      "Rock\n",
      "The second, print Rock, Papper or Scissosrs\n",
      "Scissosrs\n",
      "Error\n",
      "\n",
      "\n",
      "The first, print Rock, Papper or Scissors\n",
      "Rock\n",
      "The second, print Rock, Papper or Scissosrs\n",
      "Scissors\n",
      "The first won\n"
     ]
    }
   ],
   "source": [
    "def main():\n",
    "\twinner = 0\n",
    "\twhile winner == 0:\n",
    "\t\tfirst = input(\"The first, print Rock, Papper or Scissors\\n\")\n",
    "\t\tsecond= input(\"The second, print Rock, Papper or Scissors\\n\")\n",
    "\t\tif (first != 'Rock' and first != 'Papper' and first != 'Scissors') or (second != 'Rock' and second != 'Papper' and second != 'Scissors') :\n",
    "\t\t\tprint('Error\\n\\n')\n",
    "\t\telse:\n",
    "\t\t\twinner = compare(first, second)\n",
    "\t\t\tif(winner == 1): print('The first won')\n",
    "\t\t\telif(winner == 2): print('The second won')\n",
    "\t\t\telse :\n",
    "\t\t\t\tend = input('Dead heat, try one more or print Stop\\n')\n",
    "\t\t\t\tif(end == 'Stop'): winner = -1\n",
    "\n",
    "\n",
    "def compare(first, second):\n",
    "\tif(first == \"Rock\"):\n",
    "\t\tf = 1\n",
    "\telif (first == \"Papper\"):\n",
    "\t\tf = 2\n",
    "\telse:\n",
    "\t\t f = 3\n",
    "\n",
    "\tif(second == \"Rock\"):\n",
    "\t\ts = 1\n",
    "\telif (second == \"Papper\"):\n",
    "\t\ts = 2\n",
    "\telse:\n",
    "\t\t s = 3\t \n",
    "\n",
    "\tif f - s == 0:\n",
    "\t\treturn 0\n",
    "\telif f - s == -2 or f - s == 1:\n",
    "\t\treturn 1\n",
    "\telif f - s == -1 or f - s == 2:\n",
    "\t\treturn 2\n",
    "\treturn 0\n",
    "\n",
    "if __name__ == \"__main__\" :\n",
    "\tmain()"
   ]
  },
  {
   "cell_type": "code",
   "execution_count": 5,
   "metadata": {},
   "outputs": [
    {
     "name": "stdout",
     "output_type": "stream",
     "text": [
      "Give me string you want to reverse\n",
      "qwe asd zxc\n",
      "zxc asd qwe \n"
     ]
    }
   ],
   "source": [
    "def main():\n",
    "\tstring = get_string()\n",
    "\tnew_string = reverse(string)\n",
    "#\tprint(type(new_string))\n",
    "\tfor i in new_string[::-1]:\n",
    "\t\tprint(i, end = \" \")\n",
    "\tprint()\n",
    "\n",
    "def get_string():\n",
    "\treturn (input(\"Give me string you want to reverse\\n\"))\n",
    "\n",
    "def reverse(st):\n",
    "\treturn st.split()\n",
    "\n",
    "if __name__ == \"__main__\":\n",
    "\tmain()"
   ]
  },
  {
   "cell_type": "code",
   "execution_count": null,
   "metadata": {},
   "outputs": [],
   "source": []
  }
 ],
 "metadata": {
  "kernelspec": {
   "display_name": "Python 3",
   "language": "python",
   "name": "python3"
  },
  "language_info": {
   "codemirror_mode": {
    "name": "ipython",
    "version": 3
   },
   "file_extension": ".py",
   "mimetype": "text/x-python",
   "name": "python",
   "nbconvert_exporter": "python",
   "pygments_lexer": "ipython3",
   "version": "3.6.7"
  }
 },
 "nbformat": 4,
 "nbformat_minor": 2
}
