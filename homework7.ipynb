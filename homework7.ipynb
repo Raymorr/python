{
 "cells": [
  {
   "cell_type": "markdown",
   "metadata": {
    "colab_type": "text",
    "id": "elmONJBjB1wZ"
   },
   "source": [
    "# Topic Modeling and Gibbs Sampling"
   ]
  },
  {
   "cell_type": "markdown",
   "metadata": {
    "colab_type": "text",
    "id": "ke8yIh3yC-yw"
   },
   "source": [
    "Задача: описать текст через распределение весов по некоторому фиксированному набору топиков (тегов). Например, для набора тегов Политика, Военные сражения, Спорт, Интернет, Драма представить роман \"Война и мир\" как вектор (0.3, 0.2, 0, 0, 0.5), а статью в газете про допинг в велоспорте как вектор (0.1, 0, 0.7, 0, 0.2).\n",
    "\n",
    "Для чего, например, это нужно: имея векторное представление для текстов, тексты можно сравнивать, рекомендовать похожие.\n",
    "\n",
    "Условие: даны только набор текстов и количество тем."
   ]
  },
  {
   "cell_type": "markdown",
   "metadata": {
    "colab_type": "text",
    "id": "XJdIgvb5B1wd"
   },
   "source": [
    "## Немного теории"
   ]
  },
  {
   "cell_type": "markdown",
   "metadata": {
    "colab_type": "text",
    "id": "mipLvBaZB1we"
   },
   "source": [
    "Будем представлять текст как неупорядоченный набор слов (Bag-of-words model). Предположим, что имеется K тегов и для каждого тега выбрано распределение $\\phi_k$ над списком всевозможных слов (словарем из N слов). По сути, каждое $\\phi_k$ - это вектор длины N из неотрицательных величин, в сумме дающих 1. Вектора $\\phi_k$ независимы и моделируются распредеделением Дирихле $Dir(\\beta)$. Теперь, чтобы собрать текст d из $n$ слов, будем действовать по следующей схеме:\n",
    "\n",
    "\n",
    "* выберем распредление для тегов $\\theta_d$. Вновь, $\\theta_d$ - это вектор длины K из неотрицательных величин, в сумме дающих 1. Поэтому естественно брать $\\theta_d \\sim Dir(\\theta | \\alpha)$\n",
    "\n",
    "* Для i от 1 до n:\n",
    "  * выберем тег $z_i$ согласно распределению $\\theta_d$\n",
    "  * выберем слово $w_i$ из распределения для данного тега, т.е. $w_i \\sim \\phi_{z_i}$\n",
    "  * добавляем слово $w_i$ в текст.\n",
    "\n",
    "Полученная модель называется моделью LDA (Latent Dirichlet Allocation). Описанная  схема задает совместное распределение скрытых и наблюдаемых параметров по всем текстам корпуса размера M в виде:\n",
    "\n",
    "\n",
    "$p(\\textbf{w}, \\textbf{z}, \\theta, \\phi | \\alpha, \\beta) = Dir(\\theta | \\alpha) Dir(\\phi|\\beta)Cat(\\textbf{z}|\\theta)Cat(\\textbf{w}|\\phi_z)$.\n",
    "\n",
    "Здесь $\\textbf{w}$ и $\\textbf{z}$ обозначают вектора слов и тегов по всем текстам, $\\theta$ - набор из $\\theta_d$ для каждого документа (матрица $M\\times K$), $\\phi$ - набор из $\\phi_k$ для каждого тега (матрица $K\\times N$).\n"
   ]
  },
  {
   "cell_type": "markdown",
   "metadata": {
    "colab_type": "text",
    "id": "D9yKUGWnXCYm"
   },
   "source": [
    "![img](https://www.researchgate.net/publication/336065245/figure/fig1/AS:807371718815752@1569503826964/Latent-Dirichlet-allocation-LDA-process-and-its-two-outputs-a-LDA-document.ppm)"
   ]
  },
  {
   "cell_type": "markdown",
   "metadata": {
    "colab_type": "text",
    "id": "hiXKW7NQWeO8"
   },
   "source": [
    "Наша задача - восстановить распределение $p(\\textbf{z}, \\theta, \\phi | \\textbf{w}, \\alpha, \\beta)$.\n",
    "\n",
    "\n",
    "Немного упростим жизнь, и поставим себе задачей восстановить распределение $p(\\textbf{z} | \\textbf{w}, \\alpha, \\beta) = \\int\\int p(\\textbf{z}, \\theta, \\phi | \\textbf{w}, \\alpha, \\beta)\\textrm{d}\\theta\\textrm{d}\\phi$.\n",
    "\n",
    "В этот момент на помощь приходить алгоритм Gibbs Sampling. Напомним, для оценки набора парамеров $\\textbf{z} = (z_1, z_2, ..., z_m)$ используется схема:\n",
    "\n",
    "$z_i^{(t)} \\sim p(z_i^{(t)}\\ | \\ z_1=z_1^{t}, ..., z_{i-1}=z_{i-1}^{t},\n",
    "z_{i+1}=z_{i+1}^{t-1}, z_{m}=z_{m}^{t-1})$."
   ]
  },
  {
   "cell_type": "markdown",
   "metadata": {
    "colab_type": "text",
    "id": "aQeReuG_aDI7"
   },
   "source": [
    "Условные распределения выводятся так. Сначала замечаем, что\n",
    "\n",
    "$p(z_i|\\textbf{z}_{\\hat{i}}, \\textbf{w}, \\alpha, \\beta) = \\frac{p(z_i,\\textbf{z}_{\\hat{i}}, \\textbf{w}| \\alpha, \\beta)}{p(\\textbf{z}_{\\hat{i}}, \\textbf{w}| \\alpha, \\beta)}  = \\frac{p(\\textbf{z}, \\textbf{w}| \\alpha, \\beta)}{p(\\textbf{z}_{\\hat{i}}, \\textbf{w}_{\\hat{i}}| \\alpha, \\beta)  p(w_i|\\alpha, \\beta)}$.\n",
    "\n",
    "Здесь $\\textbf{z}_{\\hat{i}}$, $\\textbf{w}_{\\hat{i}}$ - вектора без $i$-oй копмоненты. "
   ]
  },
  {
   "cell_type": "markdown",
   "metadata": {
    "colab_type": "text",
    "id": "yA0r2c_ob2c9"
   },
   "source": [
    "Далее расписываем:\n",
    "\n",
    "$p(\\textbf{z}, \\textbf{w}| \\alpha, \\beta) = \\int\\int p(\\textbf{z}, \\textbf{w}, \\theta, \\phi| \\alpha, \\beta)\\textrm{d}\\theta\\textrm{d}\\phi = \\int\\int Dir(\\theta | \\alpha) Dir(\\phi|\\beta)Cat(\\textbf{z}|\\theta)Cat(\\textbf{w}|\\phi_z)\\textrm{d}\\theta\\textrm{d}\\phi = \n",
    "\\int Dir(\\theta | \\alpha) Cat(\\textbf{z}|\\theta)\\textrm{d}\\theta \\int Dir(\\phi|\\beta)Cat(\\textbf{w}|\\phi_z)\\textrm{d}\\phi$\n",
    "\n",
    "и обнаруживаем, что оба интеграла в последнем выражении вычисляются аналитически. Для примера первый:\n",
    "\n",
    "$\\int Dir(\\theta | \\alpha) Cat(\\textbf{z}|\\theta)\\textrm{d}\\theta = \\prod\\limits_d \\int Dir(\\theta_d | \\alpha) Cat(\\textbf{z}_d|\\theta_d)\\textrm{d}\\theta_d = \\prod\\limits_d \\int \\frac{1}{B(\\alpha)}\\prod\\limits_k \\theta_{d, k}^{\\alpha-1}\\prod\\limits_i \\theta_{d, z_i}\\textrm{d}\\theta_d = \\prod\\limits_d\\frac{1}{B(\\alpha)}\\int\\prod\\limits_k \\theta_{d, k}^{n_{d, k} + \\alpha - 1}\\textrm{d}\\theta_d = \\prod\\limits_d \\frac{B(n_{d,\\cdot} + \\alpha)}{B(\\alpha)}$.\n",
    "\n",
    "Здесь  $n_{d,k}$ - количество тэгов $k$ в тексте $d$, $n_{d,\\cdot}$ - вектор длины $K$ из этих величин.\n",
    "\n",
    "Аналогично, второй интеграл \n",
    "$\\int Dir(\\phi|\\beta)Cat(\\textbf{w}|\\phi_z)\\textrm{d}\\phi = \\prod\\limits_k \\frac{B(n_{k,\\cdot} + \\beta)}{B(\\beta)}$,\n",
    "\n",
    "где $n_{k,\\cdot}$ - вектор длины $N$ встречаемости слов внутри тэга $k$.\n",
    "\n",
    "Получаем: \n",
    "\n",
    "$p(\\textbf{z}, \\textbf{w}| \\alpha, \\beta) = \\prod\\limits_d \\frac{B(n_{d,\\cdot} + \\alpha)}{B(\\alpha)} \\prod\\limits_k \\frac{B(n_{k,\\cdot} + \\beta)}{B(\\beta)}$.\n",
    "\n",
    "Теперь\n",
    "$p(z_i|\\textbf{z}_{\\hat{i}}, \\textbf{w}, \\alpha, \\beta) \\propto \\prod\\limits_d \\frac{B(n_{d,\\cdot} + \\alpha)}{B(n_{d,\\cdot}^{\\hat{i}} + \\alpha)} \\prod\\limits_k \\frac{B(n_{k,\\cdot} + \\beta)}{B(n_{k,\\cdot}^{\\hat{i}} + \\beta)}$.\n",
    "\n",
    "Знак $\\propto$ означает пропорциональность с точностью до общего множителя $p(w_i|\\alpha, \\beta)$. Векторы $n_{d,\\cdot}^{\\hat{i}}$ и $n_{k,\\cdot}^{\\hat{i}}$ получены из векторов $n_{d,\\cdot}$ и $n_{k,\\cdot}$ после выбрасывания $z_i$. \n",
    "\n",
    "Выражение упрощается дальше, расписывая бета-функцию через гамма-функции. Напомним,\n",
    "$B(x_1, ..., x_m) = \\frac{\\Gamma(x_1)\\cdot...\\cdot\\Gamma(x_m)}{\\Gamma(x_1 + ... + x_m)}$, а также $\\Gamma(n) = (n-1)\\Gamma(n-1)$. Получим:\n",
    "\n",
    "$p(z_i=k |\\textbf{z}_{\\hat{i}}, \\textbf{w}, \\alpha, \\beta) \\propto (n_{d_i, k}^{\\hat{i}} + \\alpha_k) \\frac{n_{k, w_i}^{\\hat{i}} + \\beta_{w_i}}{\\sum\\limits_{w}(n_{k, w}^{\\hat{i}} + \\beta_{w})}$.\n"
   ]
  },
  {
   "cell_type": "markdown",
   "metadata": {
    "colab_type": "text",
    "id": "NiYEQ_IkZUim"
   },
   "source": [
    "С этого места можно полностью собрать алгоритм моделирования плотности $p(\\textbf{z}| \\textbf{w}, \\alpha, \\beta)$. Введем  обозначение $n_k$ - количество слов, отнесенных к тегу $k$, $W$ - общее количество слов в корпусе, $\\beta_{sum} = \\sum\\limits_w\\beta_w$\n",
    "\n",
    "Алгоритм:\n",
    "\n",
    "* заведем счетчики $n_{k, w}$, $n_{d, k}$, $n_k$\n",
    "* случайным образом расставим теги словам, обновим счетчики $n_{k, w}$, $n_{d, k}$, $n_k$\n",
    "* пока не сойдемся к стационарному режиму:\n",
    "  * для каждого $i$ от 1 до $W$:\n",
    "      * для каждого $k$ от 1 до $K$:\n",
    "        * $I = I\\{z_i = k\\}$ (индикатор)\n",
    "        * вычисляем $p_k = (n_{d_i, k} + \\alpha_k - I) \\frac{n_{k, w_i} + \\beta_{w_i} - I}{n_k + \\beta_{sum} - I}$\n",
    "      * сэмплим новый $z_i$ из полученного распределения $(p_1, ..., p_K)$\n",
    "      * обновляем счетчики для учета обновленого значения $z_i$\n",
    "\n",
    "На практике удобно реализовавать так:\n",
    "\n",
    "* заведем счетчики $n_{k, w}$, $n_{d, k}$, $n_k$, заполненные нулями\n",
    "* случайным образом расставим теги словам, обновим счетчики $n_{k, w}$, $n_{d, k}$, $n_k$\n",
    "* пока не сойдемся к стационарному режиму:\n",
    "  * для каждого $i$ от 1 до $W$:\n",
    "      * $n_{d_i, z_i} \\mathrel{-}= 1$, $n_{z_i, w_i} \\mathrel{-}= 1$, $n_{z_i} \\mathrel{-}= 1$\n",
    "      * для каждого $k$ от 1 до $K$:\n",
    "        * вычисляем $p_k = (n_{d, k} + \\alpha_k) \\frac{n_{k, w_i} + \\beta_{w_i}}{n_k + \\beta_{sum}}$\n",
    "      * сэмплим новый $z_i$ из полученного распределения $(p_1, ..., p_K)$\n",
    "      * $n_{d_i, z_i} \\mathrel{+}= 1$, $n_{z_i, w_i} \\mathrel{+}= 1$, $n_{z_i} \\mathrel{+}= 1$\n",
    "\n",
    "\n",
    "\n"
   ]
  },
  {
   "cell_type": "markdown",
   "metadata": {
    "colab_type": "text",
    "id": "eaV85RF1gd6l"
   },
   "source": [
    "Восстановив распредление для $\\textbf{z}$, можем оценить $\\theta$ и $\\phi$, о которых мы ненадолго забыли. Оценить можно, например, через матожидание по апостериорным распределениям. Получите формулы самостоятельно!"
   ]
  },
  {
   "cell_type": "markdown",
   "metadata": {
    "colab_type": "text",
    "id": "K13WQakft3kk"
   },
   "source": [
    "Литература:\n",
    "\n",
    "http://u.cs.biu.ac.il/~89-680/darling-lda.pdf\n",
    "\n",
    "https://www.cs.cmu.edu/~mgormley/courses/10701-f16/slides/lecture20-topic-models.pdf"
   ]
  },
  {
   "cell_type": "markdown",
   "metadata": {
    "colab_type": "text",
    "id": "S1M8TVaPiIwd"
   },
   "source": [
    "Перейдем к практике."
   ]
  },
  {
   "cell_type": "markdown",
   "metadata": {
    "colab_type": "text",
    "id": "KKGHWSSiB1we"
   },
   "source": [
    "## Датасет\n",
    "\n",
    "Возьмем популярный датасет [20 Newsgroups](http://qwone.com/~jason/20Newsgroups/), встроенный в пакет ```sklearn```. Датасет состоит из ~20К текстов, классифицированных на 20 категорий. Датасет разбит на ```train``` и ```test```. Для загрузки используем  модуль ```fetch_20newsgroups```, в параметрах указать, что мета информацию о тексте загружать не нужно:"
   ]
  },
  {
   "cell_type": "code",
   "execution_count": 3,
   "metadata": {
    "colab": {
     "base_uri": "https://localhost:8080/",
     "height": 51
    },
    "colab_type": "code",
    "id": "ghK1srgpB1wf",
    "outputId": "a64b1478-d337-44eb-8413-841ea0f70888"
   },
   "outputs": [],
   "source": [
    "import numpy as np\n",
    "from sklearn.datasets import fetch_20newsgroups\n",
    "\n",
    "newsgroups_train = fetch_20newsgroups(subset='train', remove=('headers', 'footers', 'quotes'))"
   ]
  },
  {
   "cell_type": "markdown",
   "metadata": {
    "colab_type": "text",
    "id": "_BSEchmRB1wh"
   },
   "source": [
    "Выведем список категорий текстов:"
   ]
  },
  {
   "cell_type": "code",
   "execution_count": 4,
   "metadata": {
    "colab": {
     "base_uri": "https://localhost:8080/",
     "height": 363
    },
    "colab_type": "code",
    "id": "lR3knXluB1wi",
    "outputId": "d6b41c1a-21d8-4baf-de17-f6c8f7ce8f1f"
   },
   "outputs": [
    {
     "data": {
      "text/plain": [
       "['alt.atheism',\n",
       " 'comp.graphics',\n",
       " 'comp.os.ms-windows.misc',\n",
       " 'comp.sys.ibm.pc.hardware',\n",
       " 'comp.sys.mac.hardware',\n",
       " 'comp.windows.x',\n",
       " 'misc.forsale',\n",
       " 'rec.autos',\n",
       " 'rec.motorcycles',\n",
       " 'rec.sport.baseball',\n",
       " 'rec.sport.hockey',\n",
       " 'sci.crypt',\n",
       " 'sci.electronics',\n",
       " 'sci.med',\n",
       " 'sci.space',\n",
       " 'soc.religion.christian',\n",
       " 'talk.politics.guns',\n",
       " 'talk.politics.mideast',\n",
       " 'talk.politics.misc',\n",
       " 'talk.religion.misc']"
      ]
     },
     "execution_count": 4,
     "metadata": {},
     "output_type": "execute_result"
    }
   ],
   "source": [
    "newsgroups_train.target_names"
   ]
  },
  {
   "cell_type": "markdown",
   "metadata": {
    "colab_type": "text",
    "id": "unhqlZciB1wl"
   },
   "source": [
    "Атрибут ```traget``` хранит номера категорий для текстов из обучающей выборки:"
   ]
  },
  {
   "cell_type": "code",
   "execution_count": 5,
   "metadata": {
    "colab": {
     "base_uri": "https://localhost:8080/",
     "height": 34
    },
    "colab_type": "code",
    "id": "PNjAq0D4B1wl",
    "outputId": "97f526ec-c9f7-466d-aee7-2df3428b26a9"
   },
   "outputs": [
    {
     "data": {
      "text/plain": [
       "array([ 7,  4,  4,  1, 14, 16, 13,  3,  2,  4])"
      ]
     },
     "execution_count": 5,
     "metadata": {},
     "output_type": "execute_result"
    }
   ],
   "source": [
    "newsgroups_train.target[:10]"
   ]
  },
  {
   "cell_type": "markdown",
   "metadata": {
    "colab_type": "text",
    "id": "OjzuWGdBB1wp"
   },
   "source": [
    "Доступ к самим текстам через атрибут ```data```. Выведем текст и категорию случайного примера из обучающего датасета:"
   ]
  },
  {
   "cell_type": "code",
   "execution_count": 6,
   "metadata": {
    "colab": {
     "base_uri": "https://localhost:8080/",
     "height": 259
    },
    "colab_type": "code",
    "id": "etlhxjk0B1wq",
    "outputId": "56847531-dd5f-4ad8-dcac-28c83b2a4c4b"
   },
   "outputs": [
    {
     "name": "stdout",
     "output_type": "stream",
     "text": [
      "Topic = rec.motorcycles\n",
      "\n",
      "hey... I'm pretty new to the wonderful world of motorcycles... I just\n",
      "bought\n",
      "a used 81 Kaw KZ650 CSR from a friend.... I was just wondering what kind of\n",
      "\n",
      "saddle bags I could get for it (since I know nothing about them)  are there\n",
      "bags for the gas tank?  how much would some cost, and how much do they\n",
      "hold?\n",
      "thanks for your advice!!!  I may be new to riding, but I love it\n",
      "already!!!!\n",
      ":)\n",
      "\n",
      "\n"
     ]
    }
   ],
   "source": [
    "n = 854\n",
    "print('Topic = {0}\\n'.format(newsgroups_train.target_names[newsgroups_train.target[n]]))\n",
    "print(newsgroups_train.data[n])"
   ]
  },
  {
   "cell_type": "markdown",
   "metadata": {
    "colab_type": "text",
    "id": "fLheZ8pTB1wx"
   },
   "source": [
    "## Векторное представление текста\n",
    "\n",
    "Представим текст как вектор индикаторов вхождений слов из некоторого словаря в текст. Это простейшая модель BOF. \n",
    "\n",
    "Сформируем словарь на основе нашего набора текстов. Для этого используем модуль ```CountVectorizer```:"
   ]
  },
  {
   "cell_type": "code",
   "execution_count": 7,
   "metadata": {
    "colab": {
     "base_uri": "https://localhost:8080/",
     "height": 259
    },
    "colab_type": "code",
    "id": "-eXBAq3SB1wy",
    "outputId": "37dca253-a58a-4390-af8f-43a8d751366d"
   },
   "outputs": [
    {
     "data": {
      "text/plain": [
       "CountVectorizer(analyzer='word', binary=True, decode_error='strict',\n",
       "        dtype=<class 'numpy.int64'>, encoding='utf-8', input='content',\n",
       "        lowercase=True, max_df=0.05, max_features=None, min_df=12,\n",
       "        ngram_range=(1, 1), preprocessor=None,\n",
       "        stop_words=frozenset({'must', 'six', 'those', 'before', 'whereby', 'while', 'down', 'nine', 'always', 'i', 'cannot', 'few', 'ever', 'hence', 'but', 'everywhere', 'me', 'anyhow', 'as', 'latterly', 'towards', 'whatever', 'fifteen', 'hundred', 'my', 'nobody', 'whenever', 'fifty', 'eleven', 'fire', 'how...e', 'per', 'well', 'side', 'your', 'becoming', 'hasnt', 'no', 'around', 'serious', 'empty', 'bill'}),\n",
       "        strip_accents=None, token_pattern='(?u)\\\\b\\\\w\\\\w+\\\\b',\n",
       "        tokenizer=None, vocabulary=None)"
      ]
     },
     "execution_count": 7,
     "metadata": {},
     "output_type": "execute_result"
    }
   ],
   "source": [
    "from sklearn.feature_extraction.text import CountVectorizer\n",
    "from sklearn.feature_extraction.stop_words import ENGLISH_STOP_WORDS\n",
    "\n",
    "vectorizer = CountVectorizer(lowercase=True, stop_words=ENGLISH_STOP_WORDS,\n",
    "                             analyzer='word', binary=True, min_df=12, max_df=0.05)\n",
    "vectorizer.fit(newsgroups_train.data)"
   ]
  },
  {
   "cell_type": "markdown",
   "metadata": {
    "colab_type": "text",
    "id": "WYt0K78cB1w0"
   },
   "source": [
    "Количество проиндексированных слов:"
   ]
  },
  {
   "cell_type": "code",
   "execution_count": 8,
   "metadata": {
    "colab": {
     "base_uri": "https://localhost:8080/",
     "height": 34
    },
    "colab_type": "code",
    "id": "RjjRR9cTB1w1",
    "outputId": "bd25d0e9-8c2d-437f-e49e-207ca482cc1b"
   },
   "outputs": [
    {
     "data": {
      "text/plain": [
       "8963"
      ]
     },
     "execution_count": 8,
     "metadata": {},
     "output_type": "execute_result"
    }
   ],
   "source": [
    "len(vectorizer.vocabulary_)"
   ]
  },
  {
   "cell_type": "markdown",
   "metadata": {
    "colab_type": "text",
    "id": "rDTu6nCHB1xJ"
   },
   "source": [
    "Проиндексированные слова и их индексы:"
   ]
  },
  {
   "cell_type": "code",
   "execution_count": 9,
   "metadata": {
    "colab": {
     "base_uri": "https://localhost:8080/",
     "height": 1000
    },
    "colab_type": "code",
    "id": "0TRxTcoeB1xK",
    "outputId": "56f0a281-46ea-488d-9763-0e288c186069"
   },
   "outputs": [
    {
     "data": {
      "text/plain": [
       "{'wondering': 8843,\n",
       " 'enlighten': 3078,\n",
       " 'car': 1612,\n",
       " 'saw': 7149,\n",
       " 'door': 2829,\n",
       " 'sports': 7651,\n",
       " 'looked': 4949,\n",
       " 'late': 4746,\n",
       " '60s': 446,\n",
       " 'early': 2925,\n",
       " '70s': 482,\n",
       " 'doors': 2830,\n",
       " 'small': 7513,\n",
       " 'addition': 662,\n",
       " 'bumper': 1513,\n",
       " 'separate': 7294,\n",
       " 'rest': 6893,\n",
       " 'body': 1370,\n",
       " 'model': 5327,\n",
       " 'engine': 3065,\n",
       " 'specs': 7619,\n",
       " 'production': 6369,\n",
       " 'history': 4030,\n",
       " 'info': 4314,\n",
       " 'fair': 3323,\n",
       " 'brave': 1441,\n",
       " 'souls': 7576,\n",
       " 'upgraded': 8477,\n",
       " 'si': 7411,\n",
       " 'clock': 1859,\n",
       " 'oscillator': 5797,\n",
       " 'shared': 7352,\n",
       " 'experiences': 3244,\n",
       " 'poll': 6173,\n",
       " 'send': 7277,\n",
       " 'brief': 1456,\n",
       " 'message': 5208,\n",
       " 'procedure': 6352,\n",
       " 'speed': 7625,\n",
       " 'cpu': 2308,\n",
       " 'rated': 6608,\n",
       " 'add': 659,\n",
       " 'cards': 1618,\n",
       " 'adapters': 656,\n",
       " 'heat': 3973,\n",
       " 'hour': 4093,\n",
       " 'usage': 8493,\n",
       " 'floppy': 3494,\n",
       " 'disk': 2753,\n",
       " 'functionality': 3629,\n",
       " '800': 500,\n",
       " 'floppies': 3493,\n",
       " 'especially': 3128,\n",
       " 'requested': 6848,\n",
       " 'days': 2454,\n",
       " 'network': 5538,\n",
       " 'knowledge': 4693,\n",
       " 'base': 1200,\n",
       " 'upgrade': 8476,\n",
       " 'haven': 3945,\n",
       " 'answered': 872,\n",
       " 'folks': 3511,\n",
       " 'mac': 5010,\n",
       " 'plus': 6147,\n",
       " 'finally': 3433,\n",
       " 'gave': 3674,\n",
       " 'ghost': 3728,\n",
       " 'weekend': 8750,\n",
       " 'starting': 7701,\n",
       " 'life': 4865,\n",
       " '512k': 419,\n",
       " '1985': 181,\n",
       " 'market': 5092,\n",
       " 'machine': 5012,\n",
       " 'sooner': 7569,\n",
       " 'intended': 4392,\n",
       " 'picking': 6065,\n",
       " 'powerbook': 6231,\n",
       " '160': 103,\n",
       " '180': 125,\n",
       " 'bunch': 1514,\n",
       " 'questions': 6541,\n",
       " 'hopefully': 4073,\n",
       " 'somebody': 7560,\n",
       " 'answer': 871,\n",
       " 'anybody': 879,\n",
       " 'dirt': 2714,\n",
       " 'round': 7041,\n",
       " 'expected': 3236,\n",
       " 'heard': 3968,\n",
       " 'supposed': 7904,\n",
       " 'summer': 7880,\n",
       " 'anymore': 880,\n",
       " 'access': 599,\n",
       " 'rumors': 7070,\n",
       " 'price': 6313,\n",
       " 'drops': 2881,\n",
       " 'line': 4889,\n",
       " 'ones': 5723,\n",
       " 'duo': 2905,\n",
       " 'went': 8760,\n",
       " 'recently': 6668,\n",
       " 'impression': 4228,\n",
       " 'display': 2760,\n",
       " 'swing': 7947,\n",
       " '80mb': 505,\n",
       " '120': 51,\n",
       " 'feel': 3390,\n",
       " 'yea': 8935,\n",
       " 'looks': 4950,\n",
       " 'store': 7766,\n",
       " 'wow': 8876,\n",
       " 'opinions': 5748,\n",
       " 'worth': 8868,\n",
       " 'taking': 7988,\n",
       " 'size': 7470,\n",
       " 'money': 5355,\n",
       " 'hit': 4031,\n",
       " 'active': 642,\n",
       " 'realize': 6644,\n",
       " 'subjective': 7828,\n",
       " 'played': 6130,\n",
       " 'machines': 5013,\n",
       " 'computer': 2043,\n",
       " 'figured': 3416,\n",
       " 'uses': 8501,\n",
       " 'daily': 2414,\n",
       " 'prove': 6446,\n",
       " 'helpful': 3992,\n",
       " 'perform': 6000,\n",
       " 'advance': 691,\n",
       " 'email': 3014,\n",
       " 'summary': 7879,\n",
       " 'news': 5547,\n",
       " 'reading': 6635,\n",
       " 'premium': 6276,\n",
       " 'finals': 3434,\n",
       " 'corner': 2254,\n",
       " 'tom': 8201,\n",
       " 'ecn': 2945,\n",
       " 'purdue': 6492,\n",
       " 'electrical': 2998,\n",
       " 'engineering': 3068,\n",
       " 'address': 666,\n",
       " 'phone': 6048,\n",
       " 'chip': 1763,\n",
       " 'article': 986,\n",
       " 'std': 7725,\n",
       " 'baker': 1173,\n",
       " 'understanding': 8426,\n",
       " 'errors': 3116,\n",
       " 'basically': 1205,\n",
       " 'known': 4695,\n",
       " 'bugs': 1499,\n",
       " 'warning': 8701,\n",
       " 'software': 7542,\n",
       " 'checked': 1743,\n",
       " 'values': 8546,\n",
       " 'aren': 947,\n",
       " 'till': 8169,\n",
       " 'launch': 4754,\n",
       " 'fix': 3461,\n",
       " 'code': 1894,\n",
       " 'possibly': 6211,\n",
       " 'introduce': 4440,\n",
       " 'crew': 2335,\n",
       " 'ok': 5711,\n",
       " '213': 224,\n",
       " 'ignore': 4174,\n",
       " 'term': 8073,\n",
       " 'defined': 2527,\n",
       " 'doubt': 2836,\n",
       " 'quote': 6551,\n",
       " 'allegedly': 786,\n",
       " 'presenting': 6286,\n",
       " 'argument': 956,\n",
       " 'weapons': 8741,\n",
       " 'mass': 5111,\n",
       " 'destruction': 2627,\n",
       " 'commonly': 1967,\n",
       " 'understood': 8427,\n",
       " 'switching': 7952,\n",
       " 'topics': 8216,\n",
       " 'evidently': 3172,\n",
       " 'allowed': 792,\n",
       " 'later': 4748,\n",
       " 'analysis': 835,\n",
       " 'given': 3741,\n",
       " 'consider': 2122,\n",
       " 'class': 1827,\n",
       " 'responded': 6885,\n",
       " 'request': 6847,\n",
       " 'treatment': 8300,\n",
       " 'couldn': 2280,\n",
       " 'thank': 8105,\n",
       " 'directly': 2709,\n",
       " 'bouncing': 1415,\n",
       " 'sean': 7217,\n",
       " 'sharon': 7357,\n",
       " 'thought': 8135,\n",
       " 'publicly': 6473,\n",
       " 'glad': 3746,\n",
       " 'accidentally': 605,\n",
       " 'rn': 6989,\n",
       " 'instead': 4366,\n",
       " 'rm': 6988,\n",
       " 'trying': 8340,\n",
       " 'delete': 2543,\n",
       " 'file': 3419,\n",
       " 'september': 7300,\n",
       " 'hmmm': 4040,\n",
       " 'shows': 7407,\n",
       " 'scsi': 7206,\n",
       " 'controler': 2198,\n",
       " 'range': 6592,\n",
       " '5mb': 436,\n",
       " 'controller': 2200,\n",
       " 'burst': 1525,\n",
       " 'note': 5594,\n",
       " 'increase': 4263,\n",
       " 'quadra': 6518,\n",
       " 'version': 8585,\n",
       " 'exist': 3220,\n",
       " 'pc': 5970,\n",
       " 'mode': 5326,\n",
       " '16': 102,\n",
       " 'wide': 8779,\n",
       " 'fast': 3353,\n",
       " '12mb': 63,\n",
       " '20mb': 218,\n",
       " '32': 324,\n",
       " '15': 90,\n",
       " '40mb': 375,\n",
       " 'data': 2440,\n",
       " 'twice': 8367,\n",
       " 'esdi': 3126,\n",
       " 'correct': 2262,\n",
       " 'reach': 6623,\n",
       " '20': 207,\n",
       " 'faster': 3354,\n",
       " 'ide': 4153,\n",
       " '96': 533,\n",
       " 'facts': 3314,\n",
       " 'posted': 6214,\n",
       " 'newsgroup': 5548,\n",
       " 'ibm': 4144,\n",
       " 'sheet': 7364,\n",
       " 'ftp': 3615,\n",
       " 'sumex': 7876,\n",
       " 'aim': 750,\n",
       " 'stanford': 7693,\n",
       " '36': 348,\n",
       " '44': 386,\n",
       " 'report': 6827,\n",
       " 'compare': 1982,\n",
       " 'txt': 8374,\n",
       " '161': 105,\n",
       " 'documented': 2809,\n",
       " 'apple': 904,\n",
       " 'maximum': 5136,\n",
       " 'synchronous': 7965,\n",
       " 'slower': 7509,\n",
       " 'interface': 4411,\n",
       " 'driven': 2872,\n",
       " 'win': 8795,\n",
       " 'downloaded': 2841,\n",
       " 'icons': 4149,\n",
       " 'bmp': 1357,\n",
       " 'figure': 3415,\n",
       " 'change': 1710,\n",
       " 'appreciated': 916,\n",
       " 'thanx': 8106,\n",
       " 'board': 1362,\n",
       " 'licensing': 4861,\n",
       " 'technologies': 8040,\n",
       " 'owners': 5834,\n",
       " 'compression': 2034,\n",
       " 'technology': 8041,\n",
       " 'writing': 8887,\n",
       " 'memory': 5191,\n",
       " 'lost': 4964,\n",
       " 'reference': 6700,\n",
       " 'wrong': 8890,\n",
       " 'problems': 6351,\n",
       " 'fault': 3361,\n",
       " 'icon': 4148,\n",
       " 'usually': 8505,\n",
       " 'mentioned': 5195,\n",
       " 'freeware': 3595,\n",
       " 'expansion': 3233,\n",
       " 'utility': 8511,\n",
       " 'dd': 2458,\n",
       " 'expand': 3230,\n",
       " 'compressed': 2033,\n",
       " 'unless': 8456,\n",
       " 'installed': 4361,\n",
       " 'product': 6368,\n",
       " 'unlikely': 8458,\n",
       " 'holes': 4049,\n",
       " 'related': 6752,\n",
       " 'fixed': 3462,\n",
       " 'sad': 7098,\n",
       " 'makes': 5046,\n",
       " 'reluctant': 6777,\n",
       " 'buy': 1538,\n",
       " 'hey': 4006,\n",
       " 'competition': 1999,\n",
       " '1978': 173,\n",
       " 'runs': 7074,\n",
       " 'paint': 5868,\n",
       " 'brown': 1478,\n",
       " 'orange': 5764,\n",
       " 'leaks': 4792,\n",
       " 'oil': 5708,\n",
       " 'pops': 6184,\n",
       " '1st': 204,\n",
       " 'shop': 7387,\n",
       " 'trans': 8265,\n",
       " 'leak': 4791,\n",
       " 'sold': 7547,\n",
       " 'bike': 1299,\n",
       " 'owner': 5833,\n",
       " 'thinking': 8126,\n",
       " 'nice': 5559,\n",
       " 'stable': 7673,\n",
       " 'axis': 1142,\n",
       " 'motors': 5401,\n",
       " 'tx': 8373,\n",
       " 'org': 5777,\n",
       " 'dod': 2811,\n",
       " 'yep': 8939,\n",
       " 'pretty': 6303,\n",
       " 'jew': 4550,\n",
       " 'understand': 8424,\n",
       " 'jewish': 4551,\n",
       " 'jews': 4552,\n",
       " 'covenant': 2299,\n",
       " 'abraham': 572,\n",
       " 'moses': 5381,\n",
       " 'moral': 5371,\n",
       " 'follow': 3512,\n",
       " 'mankind': 5064,\n",
       " 'decide': 2482,\n",
       " 'boundaries': 1417,\n",
       " 'fall': 3329,\n",
       " 'believed': 1260,\n",
       " 'torah': 8219,\n",
       " 'required': 6852,\n",
       " 'ancestors': 838,\n",
       " 'modern': 5335,\n",
       " 'judaism': 4595,\n",
       " 'interpretation': 4425,\n",
       " 'lead': 4781,\n",
       " 'morality': 5372,\n",
       " 'essence': 3131,\n",
       " 'biblical': 1292,\n",
       " 'man': 5050,\n",
       " 'christian': 1778,\n",
       " 'necessarily': 5508,\n",
       " 'indicate': 4278,\n",
       " 'outside': 5818,\n",
       " 'relationship': 6757,\n",
       " 'speculate': 7622,\n",
       " 'trouble': 8328,\n",
       " 'created': 2325,\n",
       " 'image': 4191,\n",
       " 'means': 5151,\n",
       " 'conclusion': 2063,\n",
       " 'wants': 8694,\n",
       " 'script': 7200,\n",
       " 'foundation': 3568,\n",
       " 'mix': 5312,\n",
       " 'living': 4917,\n",
       " 'christ': 1777,\n",
       " 'example': 3184,\n",
       " 'jesus': 4547,\n",
       " 'person': 6020,\n",
       " 'recorded': 6680,\n",
       " 'followers': 3514,\n",
       " 'references': 6702,\n",
       " 'historians': 4026,\n",
       " 'revelation': 6924,\n",
       " 'aside': 997,\n",
       " 'hand': 3899,\n",
       " 'worse': 8865,\n",
       " 'attempt': 1070,\n",
       " 'christianity': 1779,\n",
       " 'initially': 4327,\n",
       " 'bible': 1291,\n",
       " 'interpret': 4424,\n",
       " 'humanity': 4116,\n",
       " 'guess': 3859,\n",
       " 'faith': 3325,\n",
       " 'comes': 1939,\n",
       " 'inherent': 4322,\n",
       " 'absolute': 577,\n",
       " 'multiple': 5432,\n",
       " 'codes': 1896,\n",
       " 'founded': 3569,\n",
       " 'parent': 5900,\n",
       " 'child': 1758,\n",
       " 'swear': 7940,\n",
       " 'assume': 1030,\n",
       " 'simply': 7447,\n",
       " 'told': 8197,\n",
       " 'pub': 6468,\n",
       " 'bar': 1191,\n",
       " 'children': 1760,\n",
       " 'inappropriate': 4239,\n",
       " 'quite': 6549,\n",
       " 'happy': 3922,\n",
       " 'animals': 854,\n",
       " 'analogy': 833,\n",
       " 'hold': 4044,\n",
       " 'water': 8721,\n",
       " 'knows': 4696,\n",
       " 'type': 8375,\n",
       " 'incidentally': 4245,\n",
       " 'young': 8946,\n",
       " 'considers': 2129,\n",
       " 'gets': 3724,\n",
       " 'older': 5715,\n",
       " 'david': 2448,\n",
       " 'religion': 6774,\n",
       " 'description': 2600,\n",
       " 'external': 3288,\n",
       " 'tank': 7999,\n",
       " 'option': 5760,\n",
       " 'redesign': 6690,\n",
       " 'deleted': 2544,\n",
       " 'yo': 8944,\n",
       " 'ken': 4636,\n",
       " 'orbiter': 5767,\n",
       " 'options': 5762,\n",
       " 'list': 4901,\n",
       " 'today': 8192,\n",
       " '23': 240,\n",
       " 'edition': 2958,\n",
       " 'york': 8945,\n",
       " 'times': 8173,\n",
       " 'reports': 6832,\n",
       " 'connor': 2112,\n",
       " 'panel': 5879,\n",
       " 'proposals': 6424,\n",
       " 'dropped': 2879,\n",
       " 'giant': 3730,\n",
       " 'fuel': 3619,\n",
       " 'tanks': 8000,\n",
       " 'launching': 4759,\n",
       " 'space': 7589,\n",
       " 'building': 1502,\n",
       " 'station': 7712,\n",
       " 'existing': 3225,\n",
       " 'shuttle': 7410,\n",
       " 'wings': 8804,\n",
       " 'tail': 7985,\n",
       " 'removed': 6800,\n",
       " 'currently': 2386,\n",
       " 'considered': 2127,\n",
       " 'presented': 6285,\n",
       " 'meeting': 5175,\n",
       " 'yesterday': 8941,\n",
       " 'reported': 6828,\n",
       " 'low': 4976,\n",
       " 'cost': 2276,\n",
       " 'modular': 5342,\n",
       " 'approach': 917,\n",
       " 'studied': 7814,\n",
       " 'team': 8029,\n",
       " 'teams': 8030,\n",
       " 'jsc': 4593,\n",
       " 'larc': 4734,\n",
       " 'supporting': 7900,\n",
       " 'crystal': 2363,\n",
       " 'city': 1811,\n",
       " 'lerc': 4826,\n",
       " 'site': 7463,\n",
       " 'locations': 4933,\n",
       " 'helping': 3993,\n",
       " 'respective': 6881,\n",
       " 'activities': 645,\n",
       " 'key': 4645,\n",
       " 'features': 3378,\n",
       " 'bus': 1527,\n",
       " 'developed': 2646,\n",
       " 'lockheed': 4936,\n",
       " 'qualified': 6521,\n",
       " 'sts': 7809,\n",
       " 'provides': 6454,\n",
       " 'propulsion': 6430,\n",
       " 'gn': 3758,\n",
       " 'communications': 1971,\n",
       " 'management': 5053,\n",
       " 'air': 753,\n",
       " 'force': 3527,\n",
       " 'capability': 1600,\n",
       " 'obtained': 5664,\n",
       " 'flights': 3488,\n",
       " 'solar': 7545,\n",
       " 'arrays': 975,\n",
       " 'provide': 6450,\n",
       " 'vehicle': 8568,\n",
       " 'environment': 3098,\n",
       " 'missions': 5299,\n",
       " 'source': 7582,\n",
       " '30': 311,\n",
       " 'human': 4114,\n",
       " 'tended': 8067,\n",
       " 'opposed': 5754,\n",
       " 'achieved': 626,\n",
       " 'common': 1966,\n",
       " 'module': 5344,\n",
       " 'modified': 5340,\n",
       " 'lab': 4705,\n",
       " 'ports': 6199,\n",
       " 'added': 660,\n",
       " 'international': 4422,\n",
       " 'partners': 5925,\n",
       " 'labs': 4712,\n",
       " 'place': 6103,\n",
       " '60': 441,\n",
       " 'esa': 3120,\n",
       " 'modules': 5345,\n",
       " 'permanent': 6009,\n",
       " 'presence': 6281,\n",
       " '3rd': 368,\n",
       " 'assured': 1038,\n",
       " 'return': 6915,\n",
       " 'freedom': 3592,\n",
       " 'derived': 2594,\n",
       " 'based': 1202,\n",
       " 'mike': 5248,\n",
       " 'alot': 796,\n",
       " 'design': 2607,\n",
       " 'love': 4971,\n",
       " 'assumes': 1032,\n",
       " 'assembly': 1010,\n",
       " 'computed': 2042,\n",
       " '51': 416,\n",
       " 'inclination': 4247,\n",
       " 'orbit': 5765,\n",
       " 'build': 1500,\n",
       " 'occurs': 5679,\n",
       " 'initial': 4326,\n",
       " 'research': 6859,\n",
       " 'reached': 6624,\n",
       " 'transferred': 8269,\n",
       " 'visits': 8635,\n",
       " 'adopted': 687,\n",
       " 'non': 5579,\n",
       " 'language': 4731,\n",
       " 'keeping': 4631,\n",
       " 'supply': 7895,\n",
       " 'tolerance': 8198,\n",
       " '14': 77,\n",
       " '2nd': 306,\n",
       " 'thermal': 8122,\n",
       " 'control': 2197,\n",
       " 'finish': 3442,\n",
       " '24': 248,\n",
       " 'systems': 7975,\n",
       " 'exception': 3190,\n",
       " 'major': 5041,\n",
       " 'changes': 1712,\n",
       " 'reduced': 6693,\n",
       " 'prices': 6315,\n",
       " 'forsale': 3555,\n",
       " 'behalf': 1251,\n",
       " 'brother': 1475,\n",
       " 'moving': 5416,\n",
       " 'moved': 5410,\n",
       " 'offer': 5692,\n",
       " 'black': 1328,\n",
       " 'portable': 6192,\n",
       " 'purchased': 6490,\n",
       " '12': 50,\n",
       " 'sr': 7664,\n",
       " '1000': 22,\n",
       " 'dual': 2896,\n",
       " 'cassette': 1640,\n",
       " 'player': 6131,\n",
       " 'fm': 3503,\n",
       " 'band': 1182,\n",
       " 'graphics': 3812,\n",
       " 'tape': 8002,\n",
       " 'deck': 2489,\n",
       " 'sound': 7577,\n",
       " 'bet': 1281,\n",
       " '80': 499,\n",
       " '25': 262,\n",
       " 'zoom': 8961,\n",
       " 'japan': 4532,\n",
       " 'includes': 4251,\n",
       " 'accessories': 602,\n",
       " '50': 410,\n",
       " '1400': 79,\n",
       " 'hair': 3889,\n",
       " 'head': 3953,\n",
       " 'ask': 998,\n",
       " 'bag': 1170,\n",
       " 'leather': 4799,\n",
       " 'brand': 1439,\n",
       " 'speeds': 7627,\n",
       " 'extra': 3289,\n",
       " 'angle': 850,\n",
       " 'steam': 7730,\n",
       " 'dry': 2888,\n",
       " 'iron': 4482,\n",
       " 'contact': 2158,\n",
       " 'reply': 6825,\n",
       " 'included': 4250,\n",
       " 'reasonable': 6649,\n",
       " 'happened': 3917,\n",
       " 'japanese': 4533,\n",
       " 'citizens': 1809,\n",
       " 'war': 8695,\n",
       " 'ii': 4178,\n",
       " 'prepared': 6279,\n",
       " 'stick': 7746,\n",
       " 'concentration': 2051,\n",
       " 'camp': 1582,\n",
       " 'trial': 8311,\n",
       " 'short': 7391,\n",
       " 'step': 7737,\n",
       " 'nazis': 5491,\n",
       " 'originally': 5790,\n",
       " 'final': 3432,\n",
       " 'solution': 7554,\n",
       " 'partly': 5923,\n",
       " 'afford': 719,\n",
       " 'camps': 1585,\n",
       " 'caused': 1656,\n",
       " 'total': 8228,\n",
       " 'weren': 8761,\n",
       " 'generally': 3694,\n",
       " 'died': 2676,\n",
       " 'disease': 2749,\n",
       " 'certainly': 1688,\n",
       " 'tiff': 8165,\n",
       " 'works': 8857,\n",
       " 'complexity': 2019,\n",
       " 'led': 4806,\n",
       " 'programs': 6385,\n",
       " 'poor': 6179,\n",
       " 'writers': 8885,\n",
       " 'making': 5047,\n",
       " 'bizarre': 1325,\n",
       " 'files': 3422,\n",
       " 'inability': 4236,\n",
       " 'load': 4922,\n",
       " 'images': 4193,\n",
       " 'save': 7143,\n",
       " 'general': 3692,\n",
       " 'environments': 3100,\n",
       " 'despite': 2622,\n",
       " 'saying': 7150,\n",
       " 'goes': 3768,\n",
       " 'worried': 8863,\n",
       " 'abuse': 581,\n",
       " 'unnecessary': 8461,\n",
       " 'format': 3546,\n",
       " 'words': 8851,\n",
       " 'spec': 7604,\n",
       " 'page': 5862,\n",
       " 'emphasis': 3023,\n",
       " 'sort': 7572,\n",
       " 'success': 7847,\n",
       " 'designed': 2609,\n",
       " 'powerful': 6233,\n",
       " 'flexible': 3486,\n",
       " 'expense': 3239,\n",
       " 'simplicity': 7445,\n",
       " 'takes': 7987,\n",
       " 'effort': 2980,\n",
       " 'handle': 3906,\n",
       " 'specification': 7613,\n",
       " 'application': 907,\n",
       " 'complete': 2014,\n",
       " 'job': 4558,\n",
       " 'import': 4220,\n",
       " 'generating': 3698,\n",
       " 'applications': 908,\n",
       " 'program': 6379,\n",
       " 'won': 8839,\n",
       " 'deal': 2462,\n",
       " 'agrees': 743,\n",
       " 'reasoning': 6652,\n",
       " 'asking': 1000,\n",
       " 'kind': 4668,\n",
       " 'rates': 6609,\n",
       " 'single': 7455,\n",
       " 'male': 5048,\n",
       " 'drivers': 2874,\n",
       " 'paying': 5964,\n",
       " 'performance': 6001,\n",
       " 'cars': 1634,\n",
       " 'replies': 6824,\n",
       " 'received': 6662,\n",
       " '27': 280,\n",
       " 'close': 1861,\n",
       " '1992': 189,\n",
       " 'dodge': 2812,\n",
       " 'stealth': 7729,\n",
       " 'rt': 7057,\n",
       " 'twin': 8368,\n",
       " 'turbo': 8353,\n",
       " 'tickets': 8161,\n",
       " 'accidents': 606,\n",
       " 'house': 4095,\n",
       " 'taken': 7986,\n",
       " 'defensive': 2522,\n",
       " 'driving': 2876,\n",
       " 'abs': 574,\n",
       " 'security': 7241,\n",
       " 'alarm': 764,\n",
       " '1500': 92,\n",
       " '500': 411,\n",
       " 'state': 7705,\n",
       " 'farm': 3348,\n",
       " 'insurance': 4378,\n",
       " 'additional': 663,\n",
       " '100': 21,\n",
       " '000': 1,\n",
       " 'policy': 6166,\n",
       " 'standard': 7687,\n",
       " '300': 312,\n",
       " 'bought': 1411,\n",
       " 'company': 1979,\n",
       " 'accident': 603,\n",
       " 'ticket': 8160,\n",
       " '11': 37,\n",
       " 'quoted': 6552,\n",
       " 'hope': 4071,\n",
       " 'helps': 3994,\n",
       " 'steve': 7742,\n",
       " 'university': 8451,\n",
       " '45': 388,\n",
       " 'kevin': 4644,\n",
       " 'remembered': 6790,\n",
       " 'correctly': 2266,\n",
       " 'asked': 999,\n",
       " 'similar': 7437,\n",
       " 'situation': 7467,\n",
       " 'inquiry': 4344,\n",
       " 'age': 727,\n",
       " 'eagle': 2920,\n",
       " 'record': 6679,\n",
       " 'clean': 1835,\n",
       " 'illinois': 4185,\n",
       " 'turn': 8359,\n",
       " 'higher': 4013,\n",
       " 'rate': 6607,\n",
       " 'couple': 2292,\n",
       " 'friends': 3607,\n",
       " 'pay': 5963,\n",
       " 'ins': 4346,\n",
       " 'companies': 1978,\n",
       " 'lucky': 4986,\n",
       " 'dan': 2424,\n",
       " 'mot': 5384,\n",
       " 'motorola': 5400,\n",
       " 'cellular': 1673,\n",
       " 'group': 3844,\n",
       " '38': 352,\n",
       " 'usa': 8491,\n",
       " 'cc': 1662,\n",
       " 'live': 4913,\n",
       " 'oklahoma': 5713,\n",
       " 'drive': 2871,\n",
       " '89': 518,\n",
       " 'sc': 7153,\n",
       " 'claim': 1819,\n",
       " 'stop': 7761,\n",
       " 'signs': 7431,\n",
       " 'radios': 6575,\n",
       " 'violations': 8620,\n",
       " '18': 124,\n",
       " 'months': 5366,\n",
       " '85': 513,\n",
       " '55': 426,\n",
       " 'failure': 3321,\n",
       " 'clear': 1840,\n",
       " 'intersection': 4432,\n",
       " 'damn': 2421,\n",
       " 'light': 4871,\n",
       " 'yellow': 8938,\n",
       " '35': 341,\n",
       " 'passive': 5939,\n",
       " 'liability': 4845,\n",
       " 'comprehensive': 2031,\n",
       " 'collision': 1918,\n",
       " 'roughly': 7040,\n",
       " '1300': 67,\n",
       " '1100': 39,\n",
       " '92': 528,\n",
       " 'lx': 4995,\n",
       " 'james': 4527,\n",
       " 'law': 4760,\n",
       " 'center': 1677,\n",
       " 'ucs': 8392,\n",
       " 'disclaimer': 2733,\n",
       " 'engineer': 3066,\n",
       " 'play': 6129,\n",
       " 'calls': 1574,\n",
       " 'bird': 1314,\n",
       " 'hell': 3986,\n",
       " 'killing': 4665,\n",
       " 'away': 1134,\n",
       " 'gonna': 3773,\n",
       " '61': 447,\n",
       " 'experience': 3242,\n",
       " 'ago': 738,\n",
       " 'interesting': 4408,\n",
       " 'owned': 5832,\n",
       " 'toyota': 8241,\n",
       " 'gt': 3853,\n",
       " 'decided': 2483,\n",
       " 'gift': 3735,\n",
       " 'runners': 7072,\n",
       " 'porsche': 6190,\n",
       " '1987': 183,\n",
       " 'liked': 4876,\n",
       " 'handling': 3910,\n",
       " 'appeal': 897,\n",
       " 'personal': 6021,\n",
       " 'luxury': 4993,\n",
       " 'acceleration': 590,\n",
       " 'ready': 6639,\n",
       " 'buying': 1541,\n",
       " 'impulse': 4235,\n",
       " 'agent': 732,\n",
       " 'office': 5696,\n",
       " 'happen': 3916,\n",
       " 'classification': 1831,\n",
       " 'slight': 7498,\n",
       " 'newer': 5544,\n",
       " 'lower': 4977,\n",
       " 'risk': 6980,\n",
       " 'division': 2791,\n",
       " 'continue': 2175,\n",
       " 'account': 615,\n",
       " 'double': 2835,\n",
       " 'story': 7771,\n",
       " 'cover': 2300,\n",
       " 'sense': 7282,\n",
       " 'book': 1385,\n",
       " 'says': 7151,\n",
       " 'insure': 4379,\n",
       " 'reason': 6648,\n",
       " 'traditional': 8256,\n",
       " 'conservative': 2120,\n",
       " 'eventually': 3166,\n",
       " 'reasons': 6653,\n",
       " 'dealer': 2463,\n",
       " 'interested': 4407,\n",
       " 'tough': 8234,\n",
       " 'pressure': 6299,\n",
       " 'guy': 3877,\n",
       " 'room': 7029,\n",
       " 'equal': 3104,\n",
       " 'monthly': 5365,\n",
       " 'longer': 4948,\n",
       " 'concluded': 2062,\n",
       " 'probability': 6346,\n",
       " 'auto': 1105,\n",
       " 'theft': 8108,\n",
       " 'entitled': 3091,\n",
       " 'opinion': 5747,\n",
       " 'dt': 2893,\n",
       " 'navy': 5489,\n",
       " 'mil': 5249,\n",
       " 'imagination': 4194,\n",
       " 'important': 4222,\n",
       " 'albert': 768,\n",
       " 'einstein': 2988,\n",
       " 'idaho': 4152,\n",
       " '26': 275,\n",
       " 'turned': 8360,\n",
       " 'immediately': 4200,\n",
       " 'strictly': 7790,\n",
       " 'stayed': 7722,\n",
       " '150': 91,\n",
       " 'pickup': 6067,\n",
       " 'amazing': 812,\n",
       " 'felt': 3398,\n",
       " 'responsible': 6892,\n",
       " '21': 220,\n",
       " 'california': 1570,\n",
       " 'violation': 8619,\n",
       " '2000': 209,\n",
       " '28': 287,\n",
       " 'vw': 8670,\n",
       " 'san': 7119,\n",
       " 'jose': 4578,\n",
       " 'getting': 3725,\n",
       " 'vs': 8666,\n",
       " 'v6': 8533,\n",
       " '1986': 182,\n",
       " 'honda': 4062,\n",
       " 'mexico': 5224,\n",
       " 'town': 8238,\n",
       " 'nearby': 5503,\n",
       " '2x': 310,\n",
       " 'robert': 6994,\n",
       " 'stack': 7674,\n",
       " 'institute': 4367,\n",
       " 'transportation': 8288,\n",
       " 'studies': 7815,\n",
       " 'univ': 8446,\n",
       " 'uci': 8390,\n",
       " 'mazda': 5139,\n",
       " '37': 350,\n",
       " 'saturn': 7141,\n",
       " '64': 456,\n",
       " 'st': 7670,\n",
       " 'date': 2443,\n",
       " 'license': 4858,\n",
       " 'oct': 5681,\n",
       " 'mountain': 5404,\n",
       " 'view': 8604,\n",
       " '415': 378,\n",
       " '1200': 52,\n",
       " 'knock': 4689,\n",
       " 'wood': 8846,\n",
       " 'huge': 4110,\n",
       " 'difference': 2682,\n",
       " 'personally': 6023,\n",
       " 'towns': 8239,\n",
       " 'distance': 2768,\n",
       " 'boston': 1405,\n",
       " 'worst': 8867,\n",
       " '600': 442,\n",
       " '43': 383,\n",
       " '1990': 187,\n",
       " 'mitsubishi': 5311,\n",
       " 'eclipse': 2944,\n",
       " 'chicago': 1755,\n",
       " 'coverage': 2301,\n",
       " 'discount': 2736,\n",
       " 'miles': 5253,\n",
       " 'lived': 4914,\n",
       " '41': 376,\n",
       " '93': 529,\n",
       " 'sho': 7381,\n",
       " '287': 293,\n",
       " 'month': 5364,\n",
       " 'thats': 8107,\n",
       " 'property': 6414,\n",
       " '250': 263,\n",
       " 'glass': 3748,\n",
       " '39': 359,\n",
       " 'seriously': 7307,\n",
       " 'ripped': 6975,\n",
       " 'listed': 4902,\n",
       " '2k': 302,\n",
       " 'calling': 1573,\n",
       " 'dealers': 2464,\n",
       " 'places': 6106,\n",
       " 'changed': 1711,\n",
       " 'maintain': 5036,\n",
       " 'careful': 1621,\n",
       " 'voltage': 8649,\n",
       " 'signal': 7422,\n",
       " 'output': 5812,\n",
       " 'preferably': 6265,\n",
       " 'factor': 3311,\n",
       " 'resulting': 6906,\n",
       " 'fed': 3381,\n",
       " 'easily': 2933,\n",
       " 'acquisition': 634,\n",
       " 'card': 1615,\n",
       " 'circuits': 1801,\n",
       " 'seen': 7250,\n",
       " 'simple': 7443,\n",
       " 'amplifier': 829,\n",
       " 'practice': 6241,\n",
       " 'sufficiently': 7861,\n",
       " 'nicely': 5560,\n",
       " 'degrees': 2536,\n",
       " 'accuracy': 618,\n",
       " 'exact': 3178,\n",
       " 'entry': 3095,\n",
       " 'parameter': 5894,\n",
       " 'syntax': 7967,\n",
       " 'terminal': 8074,\n",
       " 'configuration': 2084,\n",
       " 'loaded': 4923,\n",
       " 'boots': 1393,\n",
       " 'tcp': 8020,\n",
       " 'ip': 4472,\n",
       " 'background': 1159,\n",
       " 'unix': 8452,\n",
       " 'running': 7073,\n",
       " 'mit': 5307,\n",
       " 'x11r4': 8901,\n",
       " 'sun': 7881,\n",
       " 'window': 8798,\n",
       " 'ncd': 5496,\n",
       " 'manually': 5069,\n",
       " 'login': 4943,\n",
       " ...}"
      ]
     },
     "execution_count": 9,
     "metadata": {},
     "output_type": "execute_result"
    }
   ],
   "source": [
    "vectorizer.vocabulary_"
   ]
  },
  {
   "cell_type": "markdown",
   "metadata": {
    "colab_type": "text",
    "id": "Ki7CwruhB1xN"
   },
   "source": [
    "Индекс, например, для слова anyone:"
   ]
  },
  {
   "cell_type": "code",
   "execution_count": 10,
   "metadata": {
    "colab": {
     "base_uri": "https://localhost:8080/",
     "height": 34
    },
    "colab_type": "code",
    "id": "N2XVuQu3B1xP",
    "outputId": "dc04f83b-482a-4598-cd3e-71f2fdcaa2fe"
   },
   "outputs": [
    {
     "data": {
      "text/plain": [
       "1612"
      ]
     },
     "execution_count": 10,
     "metadata": {},
     "output_type": "execute_result"
    }
   ],
   "source": [
    "vectorizer.vocabulary_.get('car')"
   ]
  },
  {
   "cell_type": "markdown",
   "metadata": {
    "colab_type": "text",
    "id": "H9ckeTs2B1xT"
   },
   "source": [
    "А теперь преобразуем строку в вектор:"
   ]
  },
  {
   "cell_type": "code",
   "execution_count": 11,
   "metadata": {
    "colab": {},
    "colab_type": "code",
    "id": "DKb4MKQBB1xU"
   },
   "outputs": [],
   "source": [
    "text = 'I was wondering if anyone out there could enlighten me on this car I saw'\n",
    "x = vectorizer.transform([text])"
   ]
  },
  {
   "cell_type": "markdown",
   "metadata": {
    "colab_type": "text",
    "id": "ULWh4DvrB1xX"
   },
   "source": [
    "Какой тип имеет объект, на который указывает ```x```?"
   ]
  },
  {
   "cell_type": "code",
   "execution_count": 12,
   "metadata": {
    "colab": {
     "base_uri": "https://localhost:8080/",
     "height": 34
    },
    "colab_type": "code",
    "id": "LSi_b4mIB1xX",
    "outputId": "8c3bbb1c-13da-4dd3-e12a-1a87058f54e2"
   },
   "outputs": [
    {
     "data": {
      "text/plain": [
       "scipy.sparse.csr.csr_matrix"
      ]
     },
     "execution_count": 12,
     "metadata": {},
     "output_type": "execute_result"
    }
   ],
   "source": [
    "type(x)"
   ]
  },
  {
   "cell_type": "markdown",
   "metadata": {
    "colab_type": "text",
    "id": "VdVtA7GmB1xZ"
   },
   "source": [
    "Разреженная матрица!"
   ]
  },
  {
   "cell_type": "markdown",
   "metadata": {
    "colab_type": "text",
    "id": "ugUSIc9PB1xa"
   },
   "source": [
    "### Отступление про разреженные матрицы"
   ]
  },
  {
   "cell_type": "markdown",
   "metadata": {
    "colab_type": "text",
    "id": "OB_zLEVBB1xa"
   },
   "source": [
    "Список ненулевых элементов матрицы:"
   ]
  },
  {
   "cell_type": "code",
   "execution_count": 13,
   "metadata": {
    "colab": {
     "base_uri": "https://localhost:8080/",
     "height": 34
    },
    "colab_type": "code",
    "id": "5ygEpbSSB1xb",
    "outputId": "def34294-ba6a-481f-8346-5502b1279db6"
   },
   "outputs": [
    {
     "data": {
      "text/plain": [
       "array([1, 1, 1, 1])"
      ]
     },
     "execution_count": 13,
     "metadata": {},
     "output_type": "execute_result"
    }
   ],
   "source": [
    "x.data"
   ]
  },
  {
   "cell_type": "markdown",
   "metadata": {
    "colab_type": "text",
    "id": "tejzzkvFB1xd"
   },
   "source": [
    "Индексы строк и столбцов для ненулевых элементов:"
   ]
  },
  {
   "cell_type": "code",
   "execution_count": 14,
   "metadata": {
    "colab": {
     "base_uri": "https://localhost:8080/",
     "height": 51
    },
    "colab_type": "code",
    "id": "iYlLQ9WaB1xe",
    "outputId": "cf89901c-a082-4fc8-959c-f04dcf06eeab"
   },
   "outputs": [
    {
     "data": {
      "text/plain": [
       "(array([0, 0, 0, 0], dtype=int32),\n",
       " array([1612, 3078, 7149, 8843], dtype=int32))"
      ]
     },
     "execution_count": 14,
     "metadata": {},
     "output_type": "execute_result"
    }
   ],
   "source": [
    "x.nonzero()"
   ]
  },
  {
   "cell_type": "markdown",
   "metadata": {
    "colab_type": "text",
    "id": "43HhCWNTB1xg"
   },
   "source": [
    "Преобразование к объекту ndarray (именно после приведения к такому виду разреженные матрицы можно подставлять в функции, например, библиотеки Numpy):"
   ]
  },
  {
   "cell_type": "code",
   "execution_count": 15,
   "metadata": {
    "colab": {
     "base_uri": "https://localhost:8080/",
     "height": 34
    },
    "colab_type": "code",
    "id": "1U7rGrAYB1xh",
    "outputId": "5a9797a7-d8ec-4484-9daa-7f33593110ed"
   },
   "outputs": [
    {
     "data": {
      "text/plain": [
       "array([[0, 0, 0, ..., 0, 0, 0]])"
      ]
     },
     "execution_count": 15,
     "metadata": {},
     "output_type": "execute_result"
    }
   ],
   "source": [
    "x.toarray()"
   ]
  },
  {
   "cell_type": "markdown",
   "metadata": {
    "colab_type": "text",
    "id": "rNcjGOXGB1xk"
   },
   "source": [
    "Вернемся к словарю. Раскодируем вектор ```x``` в список слов:"
   ]
  },
  {
   "cell_type": "code",
   "execution_count": 16,
   "metadata": {
    "colab": {
     "base_uri": "https://localhost:8080/",
     "height": 34
    },
    "colab_type": "code",
    "id": "_A38zVwvB1xk",
    "outputId": "4e516746-8f3e-4cad-8c20-64d0ee8fdc8e"
   },
   "outputs": [
    {
     "data": {
      "text/plain": [
       "[array(['car', 'enlighten', 'saw', 'wondering'], dtype='<U79')]"
      ]
     },
     "execution_count": 16,
     "metadata": {},
     "output_type": "execute_result"
    }
   ],
   "source": [
    "vectorizer.inverse_transform(x)"
   ]
  },
  {
   "cell_type": "markdown",
   "metadata": {
    "colab_type": "text",
    "id": "P4TuPHK1B1xm"
   },
   "source": [
    "Пропало слово ```I```. Но дело в том, что по умолчанию ```CountVectorizer``` отбрасывает последовательности, короче 2 символов. На это указывает параметр ```token_pattern='(?u)\\\\b\\\\w\\\\w+\\\\b'```."
   ]
  },
  {
   "cell_type": "markdown",
   "metadata": {
    "colab_type": "text",
    "id": "qZYK2sG_B1xn"
   },
   "source": [
    "Переведем весь набор текстов обучающего датасета в набор векторов, получим матрицу ```X_train```:"
   ]
  },
  {
   "cell_type": "code",
   "execution_count": 17,
   "metadata": {
    "colab": {
     "base_uri": "https://localhost:8080/",
     "height": 34
    },
    "colab_type": "code",
    "id": "Uhj_aRW7B1xn",
    "outputId": "76e48a96-b2ef-4512-a807-026daf579ece"
   },
   "outputs": [
    {
     "data": {
      "text/plain": [
       "(11314, 8963)"
      ]
     },
     "execution_count": 17,
     "metadata": {},
     "output_type": "execute_result"
    }
   ],
   "source": [
    "X_train = vectorizer.fit_transform(newsgroups_train.data)\n",
    "X_train.shape"
   ]
  },
  {
   "cell_type": "markdown",
   "metadata": {
    "colab_type": "text",
    "id": "DeYz7ZxuB1xs"
   },
   "source": [
    "О пользе разреженных матриц. Отношение числа ненулевых элементов ко всем элементам матрицы ```X_train```:"
   ]
  },
  {
   "cell_type": "code",
   "execution_count": 18,
   "metadata": {
    "colab": {
     "base_uri": "https://localhost:8080/",
     "height": 34
    },
    "colab_type": "code",
    "id": "lkc9UFcTB1xt",
    "outputId": "7eba71e7-52f1-4887-d02a-fde0418ceaf4"
   },
   "outputs": [
    {
     "data": {
      "text/plain": [
       "0.004860444972339391"
      ]
     },
     "execution_count": 18,
     "metadata": {},
     "output_type": "execute_result"
    }
   ],
   "source": [
    "X_train.nnz / np.prod(X_train.shape)"
   ]
  },
  {
   "cell_type": "markdown",
   "metadata": {
    "colab_type": "text",
    "id": "i9ZpBC7Sgauk"
   },
   "source": [
    "\n",
    "Задача: запустить модель LDA и Gibbs Sampling с числов тегов 20. Вывести топ-10 слов по каждому тегу. Соотнести полученные теги с тегами из датасета, сделать выводы. "
   ]
  },
  {
   "cell_type": "code",
   "execution_count": 19,
   "metadata": {},
   "outputs": [],
   "source": [
    "from tqdm import tqdm"
   ]
  },
  {
   "cell_type": "code",
   "execution_count": 20,
   "metadata": {},
   "outputs": [],
   "source": [
    "topics = 20\n",
    "n_k=np.zeros(topics)\n",
    "n_dk=np.zeros(topics*X_train.shape[0]).reshape(X_train.shape[0],topics)\n",
    "n_kw=np.zeros(topics*X_train.shape[1]).reshape(topics,X_train.shape[1])\n",
    "doc, word = X_train.nonzero()\n",
    "z = np.random.choice(topics, len(doc))\n",
    "    \n",
    "for i, j, k in zip(doc, word, z):\n",
    "    n_dk[i, k] += 1\n",
    "    n_kw[k, j] += 1\n",
    "    n_k[k] += 1"
   ]
  },
  {
   "cell_type": "code",
   "execution_count": 21,
   "metadata": {
    "colab": {},
    "colab_type": "code",
    "id": "Rn_580PkLCCj"
   },
   "outputs": [],
   "source": [
    "def lda(n_dk, n_kw, n_k, z, doc, word, topics, alpha, beta, it):    \n",
    "    for i in tqdm(range(it)):\n",
    "        for j in range(len(doc)):\n",
    "            cur_word = word[j]\n",
    "            cur_doc = doc[j]\n",
    "            cur_topic = z[j]\n",
    "            \n",
    "            n_dk[cur_doc, cur_topic] -= 1\n",
    "            n_kw[cur_topic, cur_word] -= 1\n",
    "            n_k[cur_topic] -= 1\n",
    "            \n",
    "            p = (n_dk[cur_doc, :] + alpha) * (n_kw[:, cur_word] + beta[cur_word]) / (n_k + beta.sum())\n",
    "            z[j] = np.random.choice(np.arange(topics), p=p / p.sum())\n",
    "            \n",
    "            n_dk[cur_doc, z[j]] += 1\n",
    "            n_kw[z[j], cur_word] += 1\n",
    "            n_k[z[j]] += 1\n",
    "    return z, n_kw, n_dk, n_k"
   ]
  },
  {
   "cell_type": "code",
   "execution_count": 22,
   "metadata": {},
   "outputs": [
    {
     "name": "stderr",
     "output_type": "stream",
     "text": [
      "100%|██████████| 50/50 [14:55<00:00, 17.91s/it]\n"
     ]
    }
   ],
   "source": [
    "z,n_kw, n_dk, n_k=lda(n_dk, n_kw, n_k, z, doc, word, 20, 2*np.ones(20), 2*np.ones(X_train.shape[1]), 50)"
   ]
  },
  {
   "cell_type": "code",
   "execution_count": 23,
   "metadata": {
    "scrolled": true
   },
   "outputs": [
    {
     "name": "stdout",
     "output_type": "stream",
     "text": [
      "11\t12\t14\t24\t25\t50\tah\tca\thi\tii\n",
      "ago\tbig\tbook\tcar\thand\tmakes\toh\tsmall\tstuff\ttrying\n",
      "banks\tgeb\tgordon\tintellect\tn3jxp\tpitt\tshameful\tskepticism\tsoon\tsurrender\n",
      "article\tcouple\tfolks\tpretty\tremember\tseen\tsimilar\tstuff\tsupport\tworth\n",
      "goes\tguess\tknows\tnon\tpretty\tproblems\treason\tremember\tseen\tyes\n",
      "ask\tcar\tcause\tdavid\tisn\tleft\tnice\tok\tpretty\tprice\n",
      "earth\tlaunch\tlow\tnasa\tsale\tscience\tsell\tsmall\tspace\tuniversity\n",
      "computer\tearly\tgeneral\tinterested\tissue\torder\tplace\tsmall\tstate\ttest\n",
      "ago\tdoing\temail\tfine\tgoes\tinstead\tisn\tplace\tseen\twon\n",
      "exactly\tgetting\thaven\theard\tlocal\tmoney\tsimilar\tstart\tthought\twait\n",
      "bible\tchristian\tclaim\tjesus\tlife\tman\tmean\tperson\treason\tsays\n",
      "ago\tbuy\tdifference\tdoing\tguess\thi\tseen\tthank\tusually\twon\n",
      "bad\tcar\temail\tfriend\tgetting\tinfo\tproblems\tseen\tstart\tunless\n",
      "algorithm\tchip\tclipper\tdata\tencryption\tgovernment\tkey\tkeys\tphone\tpublic\n",
      "anybody\tbig\tdrive\texperience\tgets\tgetting\theard\tinterested\tlooks\twouldn\n",
      "11\t12\t13\t15\t20\t30\tgame\tgames\tplay\tteam\n",
      "away\tchildren\tdead\tgovernment\tisrael\tjews\tkilled\tleft\tstate\twar\n",
      "bad\tidea\tinteresting\tline\tlocal\tlow\tmean\tones\tquite\trest\n",
      "card\tdos\tfile\tfiles\tpc\tprogram\trunning\tsend\tsoftware\tversion\n",
      "american\tcountry\tgovernment\tgun\tlaw\tnational\tpublic\trights\tstate\tstates\n"
     ]
    }
   ],
   "source": [
    "answer = np.argsort(n_kw, axis=1)[:, -10:]\n",
    "for i in range(20):\n",
    "    matrix = np.zeros((1, X_train.shape[1]))\n",
    "    for j in answer[i]:\n",
    "        matrix[0, j] = 1\n",
    "    print('\\t'.join(vectorizer.inverse_transform(matrix)[0]))"
   ]
  },
  {
   "cell_type": "code",
   "execution_count": null,
   "metadata": {},
   "outputs": [],
   "source": []
  }
 ],
 "metadata": {
  "colab": {
   "collapsed_sections": [],
   "name": "Topic Modeling",
   "provenance": []
  },
  "kernelspec": {
   "display_name": "Python 3",
   "language": "python",
   "name": "python3"
  },
  "language_info": {
   "codemirror_mode": {
    "name": "ipython",
    "version": 3
   },
   "file_extension": ".py",
   "mimetype": "text/x-python",
   "name": "python",
   "nbconvert_exporter": "python",
   "pygments_lexer": "ipython3",
   "version": "3.6.6"
  }
 },
 "nbformat": 4,
 "nbformat_minor": 1
}
