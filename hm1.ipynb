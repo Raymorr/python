{
 "cells": [
  {
   "cell_type": "code",
   "execution_count": 15,
   "metadata": {},
   "outputs": [
    {
     "name": "stdout",
     "output_type": "stream",
     "text": [
      "What is your name?\n",
      "Bob\n",
      "How old are you?\n",
      "12\n",
      "Bob you will be 100 years old in the year 2107\n"
     ]
    }
   ],
   "source": [
    "#http://www.practicepython.org/exercise/2014/01/29/01-character-input.html\n",
    "#1.Character Input\n",
    "\n",
    "import datetime\n",
    "def get_year(age):\n",
    "\tif age  >= 100 or age <= 0:\n",
    "\t\treturn 0\n",
    "\telse:\n",
    "\t\tyear = datetime.datetime.now().year\n",
    "\t\treturn (year + (100 - age))\n",
    "\n",
    "    \n",
    "name = input('What is your name?\\n')\n",
    "age = int(input('How old are you?\\n'))\n",
    "year = get_year(age)\t\n",
    "if year == 0:\n",
    "\tprint (\"Error!\")\n",
    "else:\n",
    "\tprint (name, 'you will be 100 years old in the year ' + str(year))"
   ]
  },
  {
   "cell_type": "code",
   "execution_count": 16,
   "metadata": {},
   "outputs": [
    {
     "name": "stdout",
     "output_type": "stream",
     "text": [
      "How many numbers?\n",
      "1\n",
      "1 \n"
     ]
    }
   ],
   "source": [
    "#http://www.practicepython.org/exercise/2014/04/30/13-fibonacci.html\n",
    "#13.Fibonacci \n",
    "\n",
    "def fib(num):\n",
    "\ta = 0\n",
    "\tb = 1\n",
    "\tfor i in range (num):\n",
    "\t\ta, b = b, a + b\n",
    "\t\tprint(a, end = ' ')\n",
    "\tprint()\n",
    "\n",
    "num = int(input(\"How many numbers?\\n\"))\n",
    "fib(num)"
   ]
  },
  {
   "cell_type": "code",
   "execution_count": 6,
   "metadata": {},
   "outputs": [
    {
     "name": "stdout",
     "output_type": "stream",
     "text": [
      "Guess the number between 1 and 9\n",
      "5\n",
      "Too high, print Stop if you want to stop guessing\n",
      "4\n",
      "You won!\n",
      "Total numbers of attempts - 2\n"
     ]
    }
   ],
   "source": [
    "#http://www.practicepython.org/exercise/2015/11/01/25-guessing-game-two.html\n",
    "#9.Guessing Game Two\n",
    "\n",
    "import random\t\n",
    "#import pdb\n",
    "\n",
    "def isint(s):\n",
    "\ttry:\n",
    "\t\tint(s)\n",
    "\t\treturn True\n",
    "\texcept ValueError:\n",
    "\t\treturn False\n",
    "\n",
    "def new_st():\n",
    "\ta = input()\n",
    "\tif(a == 'Stop') : return -1\n",
    "\telif (not a.isdigit()) : return -2\n",
    "\telif (int(a) < 1 or int(a) > 9) : return -2\n",
    "\telse: return int(a)\n",
    "\n",
    "def check(n):\n",
    "\tif(n == -1) : return 0\n",
    "\telif(n == -2) :\n",
    "\t\tprint(\"Error input, try again\")\n",
    "\t\treturn 2\n",
    "\telse : return 1\n",
    "        \n",
    "\n",
    "tries = 0\n",
    "fl = 1\n",
    "true_number = random.randint(1, 9)\n",
    "f_st = input(\"Guess the number between 1 and 9\\n\")\n",
    "if(not f_st.isdigit()) :\n",
    "\tprint ('Error')\n",
    "\tfl = 0\n",
    "else:\n",
    "\tnum = int(f_st)\n",
    "\tif(num > 9 or num < 1) :\n",
    "\t\tprint ('Error')\n",
    "\t\tfl = 0\n",
    "\n",
    "while fl == 1:\n",
    "\ttries = tries + 1\n",
    "\tif num > true_number:\n",
    "\t\tprint(\"Too high, print Stop if you want to stop guessing\")\n",
    "\t\twhile True:\n",
    "\t\t\tnum = new_st()\n",
    "\t\t\tfl = check(num)\n",
    "\t\t\tif(fl == 2): continue\n",
    "\t\t\tif(fl == 1): break\n",
    "\t\t\tbreak\n",
    "\n",
    "\telif num < true_number:\n",
    "\t\tprint(\"Too low, print Stop if you want to stop guessing\")\n",
    "\t\twhile True:\n",
    "\t\t\tnum = new_st()\n",
    "\t\t\tfl = check(num)\n",
    "\t\t\tif(fl == 2): continue\n",
    "\t\t\tif(fl == 1): break\n",
    "\t\t\tbreak\n",
    "\t\n",
    "\telse:\n",
    "\t\tprint(\"You won!\")\n",
    "\t\tprint(\"Total numbers of attempts - %d\" %tries)\n",
    "\t\tfl = 0\n"
   ]
  },
  {
   "cell_type": "code",
   "execution_count": 4,
   "metadata": {},
   "outputs": [
    {
     "name": "stdout",
     "output_type": "stream",
     "text": [
      "The first, print Rock, Papper or Scissors\n",
      "Rock\n",
      "The second, print Rock, Papper or Scissors\n",
      "Rock\n",
      "Dead heat, try one more or print Stop\n",
      "\n",
      "The first, print Rock, Papper or Scissors\n",
      "Rock\n",
      "The second, print Rock, Papper or Scissors\n",
      "Papper\n",
      "The second won\n"
     ]
    }
   ],
   "source": [
    "#8.Rock Paper Scissors\n",
    "#http://www.practicepython.org/exercise/2014/03/26/08-rock-paper-scissors.html\n",
    "\n",
    "def compare(first, second):\n",
    "\tif(first == \"Rock\"):\n",
    "\t\tf = 1\n",
    "\telif (first == \"Papper\"):\n",
    "\t\tf = 2\n",
    "\telse:\n",
    "\t\t f = 3\n",
    "\n",
    "\tif(second == \"Rock\"):\n",
    "\t\ts = 1\n",
    "\telif (second == \"Papper\"):\n",
    "\t\ts = 2\n",
    "\telse:\n",
    "\t\t s = 3\t \n",
    "\n",
    "\tif f - s == 0:\n",
    "\t\treturn 0\n",
    "\telif f - s == -2 or f - s == 1:\n",
    "\t\treturn 1\n",
    "\telif f - s == -1 or f - s == 2:\n",
    "\t\treturn 2\n",
    "\treturn 0\n",
    "\n",
    "winner = 0\n",
    "while winner == 0:\n",
    "\tfirst = input(\"The first, print Rock, Papper or Scissors\\n\")\n",
    "\tsecond= input(\"The second, print Rock, Papper or Scissors\\n\")\n",
    "\tif (first != 'Rock' and first != 'Papper' and first != 'Scissors') or (second != 'Rock' and second != 'Papper' and second != 'Scissors') :\n",
    "\t\tprint('Error\\n\\n')\n",
    "\telse:\n",
    "\t\twinner = compare(first, second)\n",
    "\t\tif(winner == 1): print('The first won')\n",
    "\t\telif(winner == 2): print('The second won')\n",
    "\t\telse :\n",
    "\t\t\tend = input('Dead heat, try one more or print Stop\\n')\n",
    "\t\tif(end == 'Stop'): winner = -1"
   ]
  },
  {
   "cell_type": "code",
   "execution_count": 7,
   "metadata": {},
   "outputs": [
    {
     "name": "stdout",
     "output_type": "stream",
     "text": [
      "Give me string you want to reverse\n",
      "qwe asd zc\n",
      "zc asd qwe \n"
     ]
    }
   ],
   "source": [
    "#http://www.practicepython.org/exercise/2014/05/21/15-reverse-word-order.html\n",
    "#15.Reverse Word Order\n",
    "\n",
    "def get_string():\n",
    "\treturn (input(\"Give me string you want to reverse\\n\"))\n",
    "\n",
    "def reverse(st):\n",
    "\treturn st.split()\n",
    "\n",
    "string = get_string()\n",
    "new_string = reverse(string)\n",
    "#\tprint(type(new_string))\n",
    "for i in new_string[::-1]:\n",
    "\tprint(i, end = \" \")\n",
    "print()"
   ]
  },
  {
   "cell_type": "code",
   "execution_count": null,
   "metadata": {},
   "outputs": [],
   "source": []
  }
 ],
 "metadata": {
  "kernelspec": {
   "display_name": "Python 3",
   "language": "python",
   "name": "python3"
  },
  "language_info": {
   "codemirror_mode": {
    "name": "ipython",
    "version": 3
   },
   "file_extension": ".py",
   "mimetype": "text/x-python",
   "name": "python",
   "nbconvert_exporter": "python",
   "pygments_lexer": "ipython3",
   "version": "3.6.8"
  }
 },
 "nbformat": 4,
 "nbformat_minor": 2
}
