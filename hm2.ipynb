{
 "cells": [
  {
   "cell_type": "code",
   "execution_count": 2,
   "metadata": {},
   "outputs": [],
   "source": [
    "import numpy as np"
   ]
  },
  {
   "cell_type": "code",
   "execution_count": 3,
   "metadata": {},
   "outputs": [
    {
     "name": "stdout",
     "output_type": "stream",
     "text": [
      "[[0.84065965 0.04499448 0.40200419]\n",
      " [0.15575428 0.24739587 0.9906445 ]\n",
      " [0.9772647  0.60423002 0.60695532]\n",
      " [0.64344527 0.3705429  0.03459634]\n",
      " [0.58535833 0.55146199 0.59808009]\n",
      " [0.27957405 0.0465496  0.39022378]\n",
      " [0.21931356 0.26822704 0.08222383]\n",
      " [0.10916378 0.04893771 0.02229625]\n",
      " [0.16365341 0.9576563  0.73206684]\n",
      " [0.15284475 0.18791627 0.53225619]]\n",
      "[0.40200419 0.24739587 0.60423002 0.3705429  0.55146199 0.39022378\n",
      " 0.26822704 0.10916378 0.73206684 0.53225619]\n"
     ]
    }
   ],
   "source": [
    "#1 Создайте двумерный массив 10x3, заполненный случайными значениями. В каждой строке выберите значение, наиболее близкое к 0.5.\n",
    "arr=np.random.random((10,3))\n",
    "i=(np.arange(10),np.abs(arr-0.5).argmin(axis=1))\n",
    "print(arr)\n",
    "print(arr[i])"
   ]
  },
  {
   "cell_type": "code",
   "execution_count": 4,
   "metadata": {},
   "outputs": [
    {
     "name": "stdout",
     "output_type": "stream",
     "text": [
      "[[0.14432785 0.18466874 0.00682435 0.45611069 0.48686181 0.79664112]\n",
      " [0.01033514 0.81709499 0.50362902 0.92298752 0.54162567 0.26078973]\n",
      " [0.42019479 0.72782733 0.51363334 0.77492585 0.70644946 0.47480554]\n",
      " [0.93966505 0.58276517 0.6097253  0.90919499 0.55974911 0.94657176]\n",
      " [0.45839663 0.60775502 0.20335272 0.18787453 0.89027343 0.34551081]\n",
      " [0.02691143 0.98822464 0.49177718 0.42637283 0.86229086 0.56755756]]\n",
      "[200.81333665  16.55105299 530.13654744  24.20589669   5.5316787\n",
      "  12.89596217]\n"
     ]
    }
   ],
   "source": [
    "#2 Создайте двумерный массив 6x6, заполненный случайными значениями. Затем сумму по каждой строке поделите на минимальный элемент из столбца с тем же индексом.\n",
    "arr = np.random.random((6, 6))\n",
    "print(arr)\n",
    "print(arr.sum(axis=1) / arr.min(axis=0))"
   ]
  },
  {
   "cell_type": "code",
   "execution_count": 5,
   "metadata": {},
   "outputs": [
    {
     "data": {
      "text/plain": [
       "5"
      ]
     },
     "execution_count": 5,
     "metadata": {},
     "output_type": "execute_result"
    }
   ],
   "source": [
    "#3 На примере массива x = np.array([6, 2, 0, 3, 0, 0, 5, 7, 0]) найдите максимальный элемент в массиве среди элементов, перед которыми стоит ноль.\n",
    "arr=np.array([6,2,0,3,0,0,5,7,0])\n",
    "arr[np.where(arr[:-1] == 0)[0] + 1].max()"
   ]
  },
  {
   "cell_type": "code",
   "execution_count": 6,
   "metadata": {},
   "outputs": [
    {
     "name": "stdout",
     "output_type": "stream",
     "text": [
      "[2. 2. 2. 2. 1. 4. 1. 1. 2. 1.]\n"
     ]
    }
   ],
   "source": [
    "#4\n",
    "arr1=np.ones(10)\n",
    "arr2=np.array([0,1,2,3,5,5,5,8])\n",
    "np.add.at(arr1,arr2,1)\n",
    "print(arr1)"
   ]
  },
  {
   "cell_type": "code",
   "execution_count": 7,
   "metadata": {},
   "outputs": [
    {
     "name": "stdout",
     "output_type": "stream",
     "text": [
      "[[ 0  1  2  3]\n",
      " [ 4  5  6  7]\n",
      " [ 8  9 10 11]\n",
      " [12 13 14 15]]\n",
      "defaultdict(<class 'list'>, {0: [0], 1: [1, 4], 2: [2, 5, 8], 3: [3, 6, 9, 12], 4: [7, 10, 13], 5: [11, 14], 6: [15]})\n"
     ]
    }
   ],
   "source": [
    "#5\n",
    "from collections import defaultdict\n",
    "n = 4\n",
    "d = defaultdict(list)\n",
    "arr = np.arange(16).reshape(n, n)\n",
    "for j in range(n*2-1):\n",
    "    for i in range(j+1):\n",
    "        temp = []\n",
    "        if i < n and j - i < n: d[j].append(arr[i, j - i])\n",
    "print(arr)\n",
    "print(d)"
   ]
  },
  {
   "cell_type": "code",
   "execution_count": 8,
   "metadata": {},
   "outputs": [
    {
     "data": {
      "text/plain": [
       "<Figure size 640x480 with 1 Axes>"
      ]
     },
     "metadata": {},
     "output_type": "display_data"
    }
   ],
   "source": [
    "#6\n",
    "import matplotlib.pyplot as plt\n",
    "\n",
    "data = np.loadtxt('http://www.stat.cmu.edu/~larry/all-of-statistics/=data/faithful.dat', skiprows=26)[:, 1:]\n",
    "\n",
    "plt.scatter(*data.T)\n",
    "plt.xlabel('Eruption time (min)')\n",
    "plt.ylabel('Waiting time ti next eruption (min)')\n",
    "\n",
    "plt.scatter(*data.T)\n",
    "plt.show()\n",
    "data = (data - data.mean(axis=0)) / data.std(axis=0)\n",
    "\n",
    "centroids = np.random.uniform(-2, 2, 4).reshape((2, 2))\n",
    "\n",
    "\n",
    "#plt.scatter(*data.T, c=np.where(labels, \"green\", \"red\"), s=20)\n",
    "#plt.scatter(*centroids.T, c=[\"red\", \"green\"], s=95, marker='*')\n",
    "#plt.title('Predicted Classes')\n",
    "#plt.show()"
   ]
  },
  {
   "cell_type": "code",
   "execution_count": 52,
   "metadata": {},
   "outputs": [],
   "source": [
    "def get_labels(pts, centroids):\n",
    "    '''Get index number of closest centroid to each item in X\n",
    "\n",
    "    Parameters\n",
    "    ----------\n",
    "    pts : ndarray\n",
    "        Array of points.\n",
    "    centroids : ndarray\n",
    "        Array of centroids.\n",
    "\n",
    "    Returns\n",
    "    -------\n",
    "    res : ndarray\n",
    "        Indices of closest centroids for each item in X.\n",
    "    '''\n",
    "    dist = np.hstack([np.linalg.norm(pts - centroid, axis=1).reshape(-1, 1) for centroid in centroids])\n",
    "    return np.argmin(dist, axis=1)\n",
    "\n",
    "def solve(data, n, e):\n",
    "    centroids = np.random.random((2, data.shape[1]))\n",
    "    labels = get_labels(data, centroids)\n",
    "    norm = norma(data, centroids, labels)\n",
    "    minnm = norm\n",
    "    newcen = centroids\n",
    "        \n",
    "    \n",
    "    \n",
    "    for i in range(n, -1):\n",
    "        prevnm = norm\n",
    "        centroids = np.array([data[labels == i].mean(axis=0) for i in range(2)])\n",
    "        labels = get_labels(data, centroids)\n",
    "        norm = norma(data, centroids, labels)       \n",
    "        if norm < minnm:\n",
    "            newcen = centroids\n",
    "            minnm = norm\n",
    "\n",
    "            \n",
    "        if abs(norm - prevnm) < e:\n",
    "            break\n",
    "            \n",
    "    return newcen\n",
    "\n",
    "def norma(data, centroids, labels):\n",
    "    ans = 0\n",
    "    for i in range(centroids.shape[0]):\n",
    "        ans+= abs(np.linalg.norm(data[i==labels] - centroids[i], axis=1).sum())\n",
    "    return ans/data.shape[0]"
   ]
  },
  {
   "cell_type": "code",
   "execution_count": 53,
   "metadata": {},
   "outputs": [
    {
     "data": {
      "image/png": "[encoded data removed]",
      "text/plain": [
       "<Figure size 432x288 with 1 Axes>"
      ]
     },
     "metadata": {
      "needs_background": "light"
     },
     "output_type": "display_data"
    }
   ],
   "source": [
    "centroids = solve(data, 100, 1e-15)\n",
    "labels = get_labels(data, centroids)\n",
    "plt.scatter(*data.T, c=np.where(labels, \"green\", \"red\"), s=20)\n",
    "plt.scatter(*centroids.T, c=[\"red\", \"green\"], s=95, marker='*')\n",
    "plt.title('Predicted Classes')\n",
    "plt.show()"
   ]
  },
  {
   "cell_type": "code",
   "execution_count": null,
   "metadata": {},
   "outputs": [],
   "source": []
  },
  {
   "cell_type": "code",
   "execution_count": null,
   "metadata": {},
   "outputs": [],
   "source": []
  }
 ],
 "metadata": {
  "kernelspec": {
   "display_name": "Python 3",
   "language": "python",
   "name": "python3"
  },
  "language_info": {
   "codemirror_mode": {
    "name": "ipython",
    "version": 3
   },
   "file_extension": ".py",
   "mimetype": "text/x-python",
   "name": "python",
   "nbconvert_exporter": "python",
   "pygments_lexer": "ipython3",
   "version": "3.6.7"
  }
 },
 "nbformat": 4,
 "nbformat_minor": 2
}
